{
 "cells": [
  {
   "cell_type": "code",
   "execution_count": 526,
   "metadata": {},
   "outputs": [
    {
     "data": {
      "text/plain": [
       "['LLLLLLLLLLLLLLL.L..LLLLLL.LLLLLLLLL.LLLLLL.LLLLLLL.LLLLLLL.LLLLLL.LLLLLLLLL.LLLL...LLLLLLLLLLL',\n",
       " 'LLLLLL.LLL.LLLLLLL.LLLLLL.LLLLLLLLL.LLLLLLLL.LLLLL.LL.LLLLLL..LLLLLLL.LLLLL.LLLL.LLLLLLLLLLLLL',\n",
       " 'LLLLL.LL.LLLLLLLLL.LLLLLLLLL.LLLLLL.LLLLLLLL.LLLLL.LLLLLLLLL.LLLLLLLL.LLLLLLLLLL.LLLLLLLLLLLLL',\n",
       " 'LLLLLLLL.LLLLLLLLLLL.LLLL.LLLLLLLLL.LLLLL.L.LLLLLL.LLLLLLLLL.LLLLLLLL.LLLLL.LLLL.LLLLLLLLLLLLL',\n",
       " '.LLLLLLL.LLLLLLLLL.LLLLLLLLLLLLLLLL.LLLLLLLLLLLLLL.LLLLLLLLL.LLLLLLLLLLLLLL.LLLLLLLLLLLLLLLLLL',\n",
       " 'LLLLL.LLLLLLLLLLLL.LLLLLLLLLLLLLLLL..LLLLLLL.L.LLLLLLLLLLLLLLLLLLL.LL.LLLLLLLLLL.LLLLLLLLLLLLL',\n",
       " '.LL.LLLL..LLLLLLLLLLLLLLL.LLLLLLL.LLLLLLLLLLL.LLLL.LLLLLLLLL.LLLLLLLLLLLLLL.LL.LLLLLLLLLLLLLLL',\n",
       " 'LLLLLLLL.LLLLLLLLL.L.LLLL.LLLLLLLLL...LLL.LL.L.LLL.LLLLLLLLL.LLLLLLLL.LLLLLLLLLLLLLLLLLLL.LL.L',\n",
       " 'LLL.LLLL.LLLLLLLLL.LLLLLL.LLLL.LLLL.LLLLLLLL..LLLL.LLLLLLLLL.LLLLLLLLLLLL.L.LLLL.LLLLLLLLLLLLL',\n",
       " '.LLLLLLL.LLLLLLL.L.LLLLLL.LLLLLLLLL.LLLLLLLL.LLLLLLLLLLLLLLL.LLLLLLLL.L..LLLLLLL.LLLLLLLLLLLLL']"
      ]
     },
     "execution_count": 526,
     "metadata": {},
     "output_type": "execute_result"
    }
   ],
   "source": [
    "with open('day11-input.txt') as f:\n",
    "    rows = f.read().splitlines()\n",
    "    \n",
    "rows[:10]"
   ]
  },
  {
   "cell_type": "code",
   "execution_count": 527,
   "metadata": {},
   "outputs": [
    {
     "data": {
      "text/plain": [
       "['L.LL.LL.LL',\n",
       " 'LLLLLLL.LL',\n",
       " 'L.L.L..L..',\n",
       " 'LLLL.LL.LL',\n",
       " 'L.LL.LL.LL',\n",
       " 'L.LLLLL.LL',\n",
       " '..L.L.....',\n",
       " 'LLLLLLLLLL',\n",
       " 'L.LLLLLL.L',\n",
       " 'L.LLLLL.LL']"
      ]
     },
     "execution_count": 527,
     "metadata": {},
     "output_type": "execute_result"
    }
   ],
   "source": [
    "test = \"\"\"L.LL.LL.LL\n",
    "LLLLLLL.LL\n",
    "L.L.L..L..\n",
    "LLLL.LL.LL\n",
    "L.LL.LL.LL\n",
    "L.LLLLL.LL\n",
    "..L.L.....\n",
    "LLLLLLLLLL\n",
    "L.LLLLLL.L\n",
    "L.LLLLL.LL\"\"\"\n",
    "\n",
    "test_rows = txt.splitlines()\n",
    "test_rows"
   ]
  },
  {
   "cell_type": "code",
   "execution_count": 505,
   "metadata": {},
   "outputs": [
    {
     "data": {
      "text/plain": [
       "array([['L', 'L', 'L', ..., 'L', 'L', 'L'],\n",
       "       ['L', 'L', 'L', ..., 'L', 'L', 'L'],\n",
       "       ['L', 'L', 'L', ..., 'L', 'L', 'L'],\n",
       "       ...,\n",
       "       ['.', 'L', 'L', ..., 'L', 'L', 'L'],\n",
       "       ['L', 'L', 'L', ..., 'L', 'L', 'L'],\n",
       "       ['L', 'L', 'L', ..., 'L', 'L', 'L']], dtype='<U1')"
      ]
     },
     "execution_count": 505,
     "metadata": {},
     "output_type": "execute_result"
    }
   ],
   "source": [
    "import numpy as np\n",
    "grid = np.array([[c for c in r] for r in rows])\n",
    "grid"
   ]
  },
  {
   "cell_type": "code",
   "execution_count": 506,
   "metadata": {},
   "outputs": [
    {
     "data": {
      "text/plain": [
       "array([['L', 'L', 'L'],\n",
       "       ['L', 'L', 'L'],\n",
       "       ['L', 'L', 'L']], dtype='<U1')"
      ]
     },
     "execution_count": 506,
     "metadata": {},
     "output_type": "execute_result"
    }
   ],
   "source": [
    "def get_adj( grid, coords ):\n",
    "    rowmin = max( coords[0] - 1, 0 )\n",
    "    rowmax = min( coords[0] + 2, grid.shape[0] )\n",
    "    colmin = max( coords[1] - 1, 0 )\n",
    "    colmax = min( coords[1] + 2, grid.shape[1] )\n",
    "    return grid[ rowmin:rowmax, colmin:colmax  ]\n",
    "\n",
    "get_adj( grid, (1,1))"
   ]
  },
  {
   "cell_type": "code",
   "execution_count": 507,
   "metadata": {},
   "outputs": [
    {
     "data": {
      "text/plain": [
       "0"
      ]
     },
     "execution_count": 507,
     "metadata": {},
     "output_type": "execute_result"
    }
   ],
   "source": [
    "def count_seats( grid, coords ):\n",
    "    mx = get_adj( grid, coords )\n",
    "    return ( mx == '#' ).sum()\n",
    "\n",
    "count_seats( grid, (1,1))"
   ]
  },
  {
   "cell_type": "code",
   "execution_count": 508,
   "metadata": {},
   "outputs": [],
   "source": [
    "def tick_seats( grid ):\n",
    "    cur = grid.copy()\n",
    "    for r in range(cur.shape[0]):\n",
    "        for c in range(cur.shape[1]):\n",
    "            coords = (r,c)\n",
    "            \n",
    "            if cur[coords] == 'L' and count_seats(cur, coords) == 0:\n",
    "                grid[coords] = '#'\n",
    "            elif cur[coords] == '#' and count_seats(cur, coords) >= 5:\n",
    "                grid[coords] = 'L'"
   ]
  },
  {
   "cell_type": "code",
   "execution_count": 509,
   "metadata": {},
   "outputs": [
    {
     "data": {
      "text/plain": [
       "array([['L', 'L', 'L', ..., 'L', 'L', 'L'],\n",
       "       ['L', 'L', 'L', ..., 'L', 'L', 'L'],\n",
       "       ['L', 'L', 'L', ..., 'L', 'L', 'L'],\n",
       "       ...,\n",
       "       ['.', 'L', 'L', ..., 'L', 'L', 'L'],\n",
       "       ['L', 'L', 'L', ..., 'L', 'L', 'L'],\n",
       "       ['L', 'L', 'L', ..., 'L', 'L', 'L']], dtype='<U1')"
      ]
     },
     "metadata": {},
     "output_type": "display_data"
    },
    {
     "data": {
      "text/plain": [
       "array([['#', '#', '#', ..., '#', '#', '#'],\n",
       "       ['#', '#', '#', ..., '#', '#', '#'],\n",
       "       ['#', '#', '#', ..., '#', '#', '#'],\n",
       "       ...,\n",
       "       ['.', '#', '#', ..., '#', '#', '#'],\n",
       "       ['#', '#', '#', ..., '#', '#', '#'],\n",
       "       ['#', '#', '#', ..., '#', '#', '#']], dtype='<U1')"
      ]
     },
     "metadata": {},
     "output_type": "display_data"
    }
   ],
   "source": [
    "display(grid)\n",
    "tick_seats(grid)\n",
    "display(grid)"
   ]
  },
  {
   "cell_type": "code",
   "execution_count": 510,
   "metadata": {},
   "outputs": [],
   "source": [
    "grid = np.array([[c for c in r] for r in rows])"
   ]
  },
  {
   "cell_type": "code",
   "execution_count": 512,
   "metadata": {},
   "outputs": [
    {
     "name": "stdout",
     "output_type": "stream",
     "text": [
      "1 2 3 4 5 6 7 8 9 10 11 12 13 14 15 16 17 18 19 20 21 22 23 24 25 26 27 28 29 30 31 32 33 34 35 36 37 38 39 40 41 42 43 44 45 46 47 48 49 50 51 52 53 54 55 56 57 58 59 60 61 62 63 64 65 66 67 68 69 70 71 72 73 74 75 76 77 78 79 80 81 82 83 84 85 86 87 88 89 90 91 92 93 94 95 96 97 98 99 100 101 102 "
     ]
    },
    {
     "data": {
      "text/plain": [
       "2249"
      ]
     },
     "execution_count": 512,
     "metadata": {},
     "output_type": "execute_result"
    }
   ],
   "source": [
    "prev = grid.copy()\n",
    "iteration = 0\n",
    "\n",
    "while True:\n",
    "    tick_seats( grid )\n",
    "    iteration += 1\n",
    "    print(iteration, end=' ')\n",
    "    \n",
    "    if np.array_equal(grid, prev):\n",
    "        break\n",
    "    else:\n",
    "        prev = grid.copy()\n",
    "        continue\n",
    "\n",
    "(grid == '#').sum()"
   ]
  },
  {
   "cell_type": "markdown",
   "metadata": {},
   "source": [
    "# Part 2"
   ]
  },
  {
   "cell_type": "code",
   "execution_count": 528,
   "metadata": {},
   "outputs": [],
   "source": [
    "g = grid[:10,:10].copy()"
   ]
  },
  {
   "cell_type": "code",
   "execution_count": 529,
   "metadata": {},
   "outputs": [],
   "source": [
    "coords = (7,3)"
   ]
  },
  {
   "cell_type": "code",
   "execution_count": 530,
   "metadata": {},
   "outputs": [
    {
     "data": {
      "text/plain": [
       "array([['L', '.', 'L', 'L', '.', 'L', 'L', '.', 'L', 'L'],\n",
       "       ['L', 'L', 'L', 'L', 'L', 'L', 'L', '.', 'L', 'L'],\n",
       "       ['L', '.', 'L', '.', 'L', '.', '.', 'L', '.', '.'],\n",
       "       ['L', 'L', 'L', 'L', '.', 'L', 'L', '.', 'L', 'L'],\n",
       "       ['L', '.', 'L', 'L', '.', 'L', 'L', '.', 'L', 'L'],\n",
       "       ['L', '.', 'L', 'L', 'L', 'L', 'L', '.', 'L', 'L'],\n",
       "       ['.', '.', 'L', '.', 'L', '.', '.', '.', '.', '.'],\n",
       "       ['L', 'L', 'L', 'L', 'L', 'L', 'L', 'L', 'L', 'L'],\n",
       "       ['L', '.', 'L', 'L', 'L', 'L', 'L', 'L', '.', 'L'],\n",
       "       ['L', '.', 'L', 'L', 'L', 'L', 'L', '.', 'L', 'L']], dtype='<U1')"
      ]
     },
     "execution_count": 530,
     "metadata": {},
     "output_type": "execute_result"
    }
   ],
   "source": [
    "g"
   ]
  },
  {
   "cell_type": "code",
   "execution_count": 531,
   "metadata": {},
   "outputs": [
    {
     "data": {
      "text/plain": [
       "'L'"
      ]
     },
     "execution_count": 531,
     "metadata": {},
     "output_type": "execute_result"
    }
   ],
   "source": [
    "v = g[:7,3][::-1]\n",
    "v[v != '.'][0]"
   ]
  },
  {
   "cell_type": "code",
   "execution_count": 532,
   "metadata": {},
   "outputs": [
    {
     "data": {
      "text/plain": [
       "(array([['L', '.', 'L'],\n",
       "        ['L', '.', 'L']], dtype='<U1'),\n",
       " array([['L', '.', 'L'],\n",
       "        ['L', '.', 'L']], dtype='<U1'))"
      ]
     },
     "execution_count": 532,
     "metadata": {},
     "output_type": "execute_result"
    }
   ],
   "source": [
    "g[7+1:,:3], np.fliplr( g[7+1:,:3] )"
   ]
  },
  {
   "cell_type": "code",
   "execution_count": 533,
   "metadata": {},
   "outputs": [],
   "source": [
    "def get_star(grid, coords):\n",
    "    r, c = coords\n",
    "    s = grid[r+1:,c]\n",
    "    n = grid[:r,c][::-1]\n",
    "    e = grid[r,c+1:]\n",
    "    w = grid[r,:c][::-1]\n",
    "    \n",
    "    se = np.diag(grid[r+1:,c+1:])\n",
    "    nw = np.diag(np.flip(grid[:r,:c]))\n",
    "    ne = np.diag(grid[:r,c+1:][::-1])\n",
    "    sw = np.diag(np.fliplr( grid[r+1:,:c] ))\n",
    "    \n",
    "    return [n,e,s,w,se,nw,ne,sw]\n",
    "\n",
    "def get_view( star ):\n",
    "    return [a[a != '.'][0] for a in star if len(a[ a != '.'])]\n",
    "\n",
    "def count_seats( view ):\n",
    "    return sum([v == '#' for v in view])"
   ]
  },
  {
   "cell_type": "code",
   "execution_count": 534,
   "metadata": {},
   "outputs": [],
   "source": [
    "grid = np.array([[c for c in r] for r in test_rows])"
   ]
  },
  {
   "cell_type": "code",
   "execution_count": 535,
   "metadata": {},
   "outputs": [
    {
     "data": {
      "text/plain": [
       "array([['L', '.', 'L', 'L', '.', 'L', 'L', '.', 'L', 'L'],\n",
       "       ['L', 'L', 'L', 'L', 'L', 'L', 'L', '.', 'L', 'L'],\n",
       "       ['L', '.', 'L', '.', 'L', '.', '.', 'L', '.', '.'],\n",
       "       ['L', 'L', 'L', 'L', '.', 'L', 'L', '.', 'L', 'L'],\n",
       "       ['L', '.', 'L', 'L', '.', 'L', 'L', '.', 'L', 'L'],\n",
       "       ['L', '.', 'L', 'L', 'L', 'L', 'L', '.', 'L', 'L'],\n",
       "       ['.', '.', 'L', '.', 'L', '.', '.', '.', '.', '.'],\n",
       "       ['L', 'L', 'L', 'L', 'L', 'L', 'L', 'L', 'L', 'L'],\n",
       "       ['L', '.', 'L', 'L', 'L', 'L', 'L', 'L', '.', 'L'],\n",
       "       ['L', '.', 'L', 'L', 'L', 'L', 'L', '.', 'L', 'L']], dtype='<U1')"
      ]
     },
     "metadata": {},
     "output_type": "display_data"
    },
    {
     "data": {
      "text/plain": [
       "'L'"
      ]
     },
     "metadata": {},
     "output_type": "display_data"
    },
    {
     "data": {
      "text/plain": [
       "[array(['.', 'L', 'L'], dtype='<U1'),\n",
       " array(['.', 'L', 'L', '.', 'L', 'L'], dtype='<U1'),\n",
       " array(['L', 'L', '.', 'L', 'L', 'L'], dtype='<U1'),\n",
       " array(['L', 'L', 'L'], dtype='<U1'),\n",
       " array(['.', 'L', '.', 'L', '.', 'L'], dtype='<U1'),\n",
       " array(['L', 'L', 'L'], dtype='<U1'),\n",
       " array(['L', 'L', 'L'], dtype='<U1'),\n",
       " array(['L', '.', '.'], dtype='<U1')]"
      ]
     },
     "metadata": {},
     "output_type": "display_data"
    },
    {
     "data": {
      "text/plain": [
       "['L', 'L', 'L', 'L', 'L', 'L', 'L', 'L']"
      ]
     },
     "metadata": {},
     "output_type": "display_data"
    },
    {
     "data": {
      "text/plain": [
       "0"
      ]
     },
     "metadata": {},
     "output_type": "display_data"
    }
   ],
   "source": [
    "coords = (3,3)\n",
    "display(grid)\n",
    "display(grid[coords])\n",
    "star = get_star(grid, coords)\n",
    "display(star)\n",
    "view = get_view(star)\n",
    "display(view)\n",
    "display( count_seats( view ) )"
   ]
  },
  {
   "cell_type": "code",
   "execution_count": 536,
   "metadata": {},
   "outputs": [],
   "source": [
    "def tick_seats( grid ):\n",
    "    cur = grid.copy()\n",
    "    for r in range(cur.shape[0]):\n",
    "        for c in range(cur.shape[1]):\n",
    "            coords = (r,c)\n",
    "            \n",
    "            occ_seats_in_view = count_seats(get_view(get_star(cur, coords)))\n",
    "            \n",
    "            if cur[coords] == 'L' and occ_seats_in_view == 0:\n",
    "                grid[coords] = '#'\n",
    "            elif cur[coords] == '#' and occ_seats_in_view >= 5:\n",
    "                grid[coords] = 'L'"
   ]
  },
  {
   "cell_type": "code",
   "execution_count": 537,
   "metadata": {},
   "outputs": [
    {
     "data": {
      "text/plain": [
       "array([['L', '.', 'L', 'L', '.', 'L', 'L', '.', 'L', 'L'],\n",
       "       ['L', 'L', 'L', 'L', 'L', 'L', 'L', '.', 'L', 'L'],\n",
       "       ['L', '.', 'L', '.', 'L', '.', '.', 'L', '.', '.'],\n",
       "       ['L', 'L', 'L', 'L', '.', 'L', 'L', '.', 'L', 'L'],\n",
       "       ['L', '.', 'L', 'L', '.', 'L', 'L', '.', 'L', 'L'],\n",
       "       ['L', '.', 'L', 'L', 'L', 'L', 'L', '.', 'L', 'L'],\n",
       "       ['.', '.', 'L', '.', 'L', '.', '.', '.', '.', '.'],\n",
       "       ['L', 'L', 'L', 'L', 'L', 'L', 'L', 'L', 'L', 'L'],\n",
       "       ['L', '.', 'L', 'L', 'L', 'L', 'L', 'L', '.', 'L'],\n",
       "       ['L', '.', 'L', 'L', 'L', 'L', 'L', '.', 'L', 'L']], dtype='<U1')"
      ]
     },
     "metadata": {},
     "output_type": "display_data"
    },
    {
     "data": {
      "text/plain": [
       "array([['#', '.', '#', '#', '.', '#', '#', '.', '#', '#'],\n",
       "       ['#', '#', '#', '#', '#', '#', '#', '.', '#', '#'],\n",
       "       ['#', '.', '#', '.', '#', '.', '.', '#', '.', '.'],\n",
       "       ['#', '#', '#', '#', '.', '#', '#', '.', '#', '#'],\n",
       "       ['#', '.', '#', '#', '.', '#', '#', '.', '#', '#'],\n",
       "       ['#', '.', '#', '#', '#', '#', '#', '.', '#', '#'],\n",
       "       ['.', '.', '#', '.', '#', '.', '.', '.', '.', '.'],\n",
       "       ['#', '#', '#', '#', '#', '#', '#', '#', '#', '#'],\n",
       "       ['#', '.', '#', '#', '#', '#', '#', '#', '.', '#'],\n",
       "       ['#', '.', '#', '#', '#', '#', '#', '.', '#', '#']], dtype='<U1')"
      ]
     },
     "metadata": {},
     "output_type": "display_data"
    }
   ],
   "source": [
    "display(grid)\n",
    "tick_seats(grid)\n",
    "display(grid)"
   ]
  },
  {
   "cell_type": "code",
   "execution_count": 538,
   "metadata": {},
   "outputs": [
    {
     "name": "stdout",
     "output_type": "stream",
     "text": [
      "1 2 3 4 5 6 7 8 9 10 11 12 13 14 15 16 17 18 19 20 21 22 23 24 25 26 27 28 29 30 31 32 33 34 35 36 37 38 39 40 41 42 43 44 45 46 47 48 49 50 51 52 53 54 55 56 57 58 59 60 61 62 63 64 65 66 67 68 69 70 71 72 73 74 75 76 77 78 79 80 81 82 83 84 85 86 "
     ]
    },
    {
     "data": {
      "text/plain": [
       "2023"
      ]
     },
     "execution_count": 538,
     "metadata": {},
     "output_type": "execute_result"
    }
   ],
   "source": [
    "grid = np.array([[c for c in r] for r in rows])\n",
    "\n",
    "prev = grid.copy()\n",
    "iteration = 0\n",
    "\n",
    "while True:\n",
    "    tick_seats( grid )\n",
    "    iteration += 1\n",
    "    print(iteration, end = ' ')\n",
    "    \n",
    "    if np.array_equal(grid, prev):\n",
    "        break\n",
    "    else:\n",
    "        prev = grid.copy()\n",
    "        continue\n",
    "\n",
    "(grid == '#').sum()"
   ]
  }
 ],
 "metadata": {
  "kernelspec": {
   "display_name": "Python 3",
   "language": "python",
   "name": "python3"
  },
  "language_info": {
   "codemirror_mode": {
    "name": "ipython",
    "version": 3
   },
   "file_extension": ".py",
   "mimetype": "text/x-python",
   "name": "python",
   "nbconvert_exporter": "python",
   "pygments_lexer": "ipython3",
   "version": "3.7.6"
  }
 },
 "nbformat": 4,
 "nbformat_minor": 4
}
