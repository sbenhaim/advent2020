{
 "cells": [
  {
   "cell_type": "code",
   "execution_count": 179,
   "metadata": {},
   "outputs": [],
   "source": [
    "input = \"\"\".#.\n",
    "..#\n",
    "###\"\"\""
   ]
  },
  {
   "cell_type": "code",
   "execution_count": 185,
   "metadata": {},
   "outputs": [],
   "source": [
    "input = \"\"\"##..#.#.\n",
    "###.#.##\n",
    "..###..#\n",
    ".#....##\n",
    ".#..####\n",
    "#####...\n",
    "#######.\n",
    "#.##.#.#\"\"\""
   ]
  },
  {
   "cell_type": "code",
   "execution_count": 186,
   "metadata": {},
   "outputs": [
    {
     "data": {
      "text/plain": [
       "array([[1, 1, 0, 0, 1, 0, 1, 0],\n",
       "       [1, 1, 1, 0, 1, 0, 1, 1],\n",
       "       [0, 0, 1, 1, 1, 0, 0, 1],\n",
       "       [0, 1, 0, 0, 0, 0, 1, 1],\n",
       "       [0, 1, 0, 0, 1, 1, 1, 1],\n",
       "       [1, 1, 1, 1, 1, 0, 0, 0],\n",
       "       [1, 1, 1, 1, 1, 1, 1, 0],\n",
       "       [1, 0, 1, 1, 0, 1, 0, 1]])"
      ]
     },
     "execution_count": 186,
     "metadata": {},
     "output_type": "execute_result"
    }
   ],
   "source": [
    "import numpy as np\n",
    "parsed = [[1 if c == '#' else 0 for c in r] for r in input.splitlines()]\n",
    "np.array(parsed)"
   ]
  },
  {
   "cell_type": "code",
   "execution_count": 174,
   "metadata": {},
   "outputs": [],
   "source": [
    "grid = {(0,y,x):c for (y,row) in enumerate(parsed) for (x,c) in enumerate(row)}"
   ]
  },
  {
   "cell_type": "code",
   "execution_count": 161,
   "metadata": {},
   "outputs": [],
   "source": [
    "def cube_at_coords( coords, grid ):\n",
    "    a,b,c = coords\n",
    "    relative = [(z,y,x) for z in range(a-1,a+2) for y in range(b-1,b+2) for x in range(c-1,c+2)]\n",
    "    \n",
    "    return [grid[coords] if coords in grid else 0 for coords in relative]"
   ]
  },
  {
   "cell_type": "code",
   "execution_count": 162,
   "metadata": {},
   "outputs": [
    {
     "data": {
      "text/plain": [
       "45"
      ]
     },
     "execution_count": 162,
     "metadata": {},
     "output_type": "execute_result"
    }
   ],
   "source": [
    "sum(tick_grid(grid).values())"
   ]
  },
  {
   "cell_type": "code",
   "execution_count": 163,
   "metadata": {},
   "outputs": [],
   "source": [
    "def expand_grid( grid ):\n",
    "    grid_ = grid.copy()\n",
    "    for (z,y,x) in grid.keys():\n",
    "        for (z_, y_, x_) in [(z_,y_,x_) for z_ in range(z-1,z+2) for y_ in range(y-1,y+2) for x_ in range(x-1,x+2)]:\n",
    "            grid_[(z_,y_,x_)] = grid_.get((z_,y_,x_), 0)\n",
    "            \n",
    "    return grid_\n",
    "            \n",
    "\n",
    "def tick_grid( grid ):\n",
    "    grid_ = expand_grid(grid)\n",
    "    new_grid = grid.copy()\n",
    "    \n",
    "    for coords in grid_.keys():\n",
    "        n_active = sum(cube_at_coords(coords, grid_))\n",
    "        if grid_[coords] and 2 <= n_active - 1 <= 3: #Active\n",
    "            new_grid[coords] = 1\n",
    "        elif not grid_[coords] and n_active == 3:\n",
    "            new_grid[coords] = 1\n",
    "        else:\n",
    "            new_grid[coords] = 0\n",
    "            \n",
    "    return new_grid"
   ]
  },
  {
   "cell_type": "code",
   "execution_count": 164,
   "metadata": {},
   "outputs": [
    {
     "data": {
      "text/plain": [
       "284"
      ]
     },
     "execution_count": 164,
     "metadata": {},
     "output_type": "execute_result"
    }
   ],
   "source": [
    "grid_ = grid.copy()\n",
    "\n",
    "for i in range(6):\n",
    "    grid_ = tick_grid(grid_)\n",
    "    \n",
    "sum(grid_.values())"
   ]
  },
  {
   "cell_type": "markdown",
   "metadata": {},
   "source": [
    "# Part 2"
   ]
  },
  {
   "cell_type": "code",
   "execution_count": 187,
   "metadata": {},
   "outputs": [],
   "source": [
    "grid = {(0,0,y,x):c for (y,row) in enumerate(parsed) for (x,c) in enumerate(row)}"
   ]
  },
  {
   "cell_type": "code",
   "execution_count": 188,
   "metadata": {},
   "outputs": [],
   "source": [
    "def cube_at_coords( coords, grid ):\n",
    "    a,b,c,d = coords\n",
    "    relative = [(w,z,y,x) for w in range(a-1,a+2) for z in range(b-1,b+2) for y in range(c-1,c+2) for x in range(d-1,d+2)]\n",
    "    \n",
    "    return [grid[coords] if coords in grid else 0 for coords in relative]"
   ]
  },
  {
   "cell_type": "code",
   "execution_count": 189,
   "metadata": {},
   "outputs": [],
   "source": [
    "def expand_grid( grid ):\n",
    "    grid_ = grid.copy()\n",
    "    for (w,z,y,x) in grid.keys():\n",
    "        for (w_, z_, y_, x_) in [(w_,z_,y_,x_) for w_ in range(w-1,w+2) for z_ in range(z-1,z+2) for y_ in range(y-1,y+2) for x_ in range(x-1,x+2)]:\n",
    "            grid_[(w_,z_,y_,x_)] = grid_.get((w_,z_,y_,x_), 0)\n",
    "            \n",
    "    return grid_"
   ]
  },
  {
   "cell_type": "code",
   "execution_count": 190,
   "metadata": {},
   "outputs": [
    {
     "data": {
      "text/plain": [
       "2240"
      ]
     },
     "execution_count": 190,
     "metadata": {},
     "output_type": "execute_result"
    }
   ],
   "source": [
    "grid_ = grid.copy()\n",
    "\n",
    "for i in range(6):\n",
    "    grid_ = tick_grid(grid_)\n",
    "    \n",
    "sum(grid_.values())"
   ]
  }
 ],
 "metadata": {
  "kernelspec": {
   "display_name": "Python 3",
   "language": "python",
   "name": "python3"
  },
  "language_info": {
   "codemirror_mode": {
    "name": "ipython",
    "version": 3
   },
   "file_extension": ".py",
   "mimetype": "text/x-python",
   "name": "python",
   "nbconvert_exporter": "python",
   "pygments_lexer": "ipython3",
   "version": "3.7.6"
  }
 },
 "nbformat": 4,
 "nbformat_minor": 4
}
