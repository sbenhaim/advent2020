{
 "cells": [
  {
   "cell_type": "code",
   "execution_count": 140,
   "metadata": {},
   "outputs": [
    {
     "data": {
      "text/plain": [
       "['S3', 'R90', 'E1', 'S3', 'E5', 'S4', 'E5', 'N3', 'W1', 'N3']"
      ]
     },
     "execution_count": 140,
     "metadata": {},
     "output_type": "execute_result"
    }
   ],
   "source": [
    "with open('day12-input.txt') as f:\n",
    "    lines = f.read().splitlines()\n",
    "    \n",
    "lines[:10]"
   ]
  },
  {
   "cell_type": "markdown",
   "metadata": {},
   "source": [
    "# Part 1"
   ]
  },
  {
   "cell_type": "code",
   "execution_count": 15,
   "metadata": {},
   "outputs": [
    {
     "name": "stdout",
     "output_type": "stream",
     "text": [
      "-470 -112 582\n"
     ]
    }
   ],
   "source": [
    "import re\n",
    "import math\n",
    "\n",
    "dirs = ['N', 'E', 'S', 'W']\n",
    "facing = 1\n",
    "NS = 0\n",
    "EW = 0\n",
    "\n",
    "for inst in lines:\n",
    "    m = re.match(\"(.)(\\d+)\", inst)\n",
    "    cmd, num = m.group(1), int(m.group(2))\n",
    "    \n",
    "    if cmd == 'F':\n",
    "        cmd = dirs[facing]\n",
    "    \n",
    "    if cmd == 'N':\n",
    "        NS += num\n",
    "    elif cmd == 'S':\n",
    "        NS -= num\n",
    "    elif cmd == 'E':\n",
    "        EW += num\n",
    "    elif cmd == 'W':\n",
    "        EW -= num\n",
    "    else:\n",
    "        # Turning\n",
    "        amt = num / 90\n",
    "        amt *= -1 if cmd == 'L' else 1\n",
    "        \n",
    "        facing = math.floor((facing + amt) % 4)\n",
    "    \n",
    "print(NS, EW, abs(NS) + abs(EW))"
   ]
  },
  {
   "cell_type": "markdown",
   "metadata": {},
   "source": [
    "# Part 2"
   ]
  },
  {
   "cell_type": "code",
   "execution_count": 134,
   "metadata": {},
   "outputs": [],
   "source": [
    "import numpy as np\n",
    "\n",
    "def rotate( coords, k ):\n",
    "    rot = np.array([[0,1], [-1, 0]])\n",
    "    if k < 0:\n",
    "        k = 4 + k\n",
    "\n",
    "    for i in range(k):\n",
    "        coords = coords @ rot\n",
    "            \n",
    "    return coords"
   ]
  },
  {
   "cell_type": "code",
   "execution_count": 81,
   "metadata": {},
   "outputs": [
    {
     "data": {
      "text/plain": [
       "array([-1, 10])"
      ]
     },
     "execution_count": 81,
     "metadata": {},
     "output_type": "execute_result"
    }
   ],
   "source": [
    "rotate([10,1], 1)"
   ]
  },
  {
   "cell_type": "code",
   "execution_count": 130,
   "metadata": {},
   "outputs": [],
   "source": [
    "test_lines = \"\"\"L90\n",
    "R90\n",
    "L180\n",
    "R180\n",
    "L270\n",
    "R270\"\"\".splitlines()"
   ]
  },
  {
   "cell_type": "code",
   "execution_count": 139,
   "metadata": {},
   "outputs": [
    {
     "name": "stdout",
     "output_type": "stream",
     "text": [
      "[ 15039 -37030] 52069.0\n"
     ]
    }
   ],
   "source": [
    "pos = np.array([0,0])\n",
    "waypoint = np.array([10,1])\n",
    "\n",
    "for inst in lines:\n",
    "    m = re.match(\"(.)(\\d+)\", inst)\n",
    "    cmd, num = m.group(1), int(m.group(2))\n",
    "    \n",
    "    if cmd == 'F':\n",
    "        pos += waypoint * num\n",
    "    elif cmd == 'N':\n",
    "        waypoint += [0,num]\n",
    "    elif cmd == 'S':\n",
    "        waypoint -= [0, num]\n",
    "    elif cmd == 'E':\n",
    "        waypoint += [num, 0]\n",
    "    elif cmd == 'W':\n",
    "        waypoint -= [num, 0]\n",
    "    else:\n",
    "        # Turning\n",
    "        num *= -1 if cmd == 'R' else 1\n",
    "        k = int( num / 90 )\n",
    "        waypoint = rotate( waypoint, k )\n",
    "    \n",
    "print(pos, np.linalg.norm(pos, ord=1))"
   ]
  }
 ],
 "metadata": {
  "kernelspec": {
   "display_name": "Python 3",
   "language": "python",
   "name": "python3"
  },
  "language_info": {
   "codemirror_mode": {
    "name": "ipython",
    "version": 3
   },
   "file_extension": ".py",
   "mimetype": "text/x-python",
   "name": "python",
   "nbconvert_exporter": "python",
   "pygments_lexer": "ipython3",
   "version": "3.7.6"
  }
 },
 "nbformat": 4,
 "nbformat_minor": 4
}
