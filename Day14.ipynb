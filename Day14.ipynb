{
 "cells": [
  {
   "cell_type": "code",
   "execution_count": 2,
   "metadata": {},
   "outputs": [
    {
     "data": {
      "text/plain": [
       "['mask = 11110100010101111011001X0100XX00100X',\n",
       " 'mem[17610] = 1035852',\n",
       " 'mem[55284] = 229776690',\n",
       " 'mem[16166] = 12685380',\n",
       " 'mem[8340] = 16011',\n",
       " 'mask = 0X1X0X010101011X10X101000X0001110100',\n",
       " 'mem[968] = 15992',\n",
       " 'mem[32758] = 7076',\n",
       " 'mem[30704] = 1701',\n",
       " 'mem[33719] = 58012',\n",
       " 'mem[20818] = 25927237',\n",
       " 'mem[16718] = 46485',\n",
       " 'mask = 111001111X0X0X101X111X1X001XX0011010',\n",
       " 'mem[2115] = 14848',\n",
       " 'mem[42753] = 617',\n",
       " 'mem[56076] = 9933868',\n",
       " 'mem[19106] = 43503',\n",
       " 'mem[10073] = 32909',\n",
       " 'mem[40830] = 1959686',\n",
       " 'mask = X11X00000XX1011X10000X01110000X0001X']"
      ]
     },
     "execution_count": 2,
     "metadata": {},
     "output_type": "execute_result"
    }
   ],
   "source": [
    "with open('day14-input.txt') as f:\n",
    "    txt = f.read().splitlines()\n",
    "    \n",
    "txt[:20]"
   ]
  },
  {
   "cell_type": "code",
   "execution_count": 37,
   "metadata": {},
   "outputs": [],
   "source": [
    "def apply_mask( n, mask ):\n",
    "    one_mask = int(re.sub(\"X\", \"0\", mask), 2)\n",
    "    zero_mask = int(re.sub(\"X\", \"1\", mask), 2)\n",
    "    return (n | one_mask) & zero_mask"
   ]
  },
  {
   "cell_type": "code",
   "execution_count": 45,
   "metadata": {},
   "outputs": [
    {
     "data": {
      "text/plain": [
       "10885823581193"
      ]
     },
     "execution_count": 45,
     "metadata": {},
     "output_type": "execute_result"
    }
   ],
   "source": [
    "import re\n",
    "\n",
    "mask = None\n",
    "mem = {}\n",
    "\n",
    "for l in txt:\n",
    "    if re.match(\"^mask\", l):\n",
    "        mask = re.match(\"mask = ([10X]+)\", l).group(1)\n",
    "    else:\n",
    "        m = re.match(\"mem\\[(\\d+)\\] = (\\d+)\", l)\n",
    "        addr = int( m.group(1) )\n",
    "        num = int( m.group(2) )\n",
    "        mem[addr] = apply_mask( num, mask )\n",
    "        \n",
    "sum( mem.values() )"
   ]
  },
  {
   "cell_type": "markdown",
   "metadata": {},
   "source": [
    "# Part 2"
   ]
  },
  {
   "cell_type": "code",
   "execution_count": 283,
   "metadata": {},
   "outputs": [],
   "source": [
    "test = \"\"\"mask = 000000000000000000000000000000X1001X\n",
    "mem[42] = 100\n",
    "mask = 00000000000000000000000000000000X0XX\n",
    "mem[26] = 1\"\"\".splitlines()"
   ]
  },
  {
   "cell_type": "code",
   "execution_count": 216,
   "metadata": {},
   "outputs": [],
   "source": [
    "zero_base_mask = 2 ** 36 - 1\n",
    "mask = 'X1001X'"
   ]
  },
  {
   "cell_type": "markdown",
   "metadata": {},
   "source": [
    "`zeros_ones`: for a set of positions for `X` in the mask, create a list of permutations for all possible 1 and 0 values for those Xs as a list of pairs of sets of indicies."
   ]
  },
  {
   "cell_type": "code",
   "execution_count": 263,
   "metadata": {},
   "outputs": [
    {
     "data": {
      "text/plain": [
       "['0b100000', '0b1']"
      ]
     },
     "execution_count": 263,
     "metadata": {},
     "output_type": "execute_result"
    }
   ],
   "source": [
    "def xpos( mask ):\n",
    "    return {2 ** i for (i, c) in enumerate(mask[::-1]) if c == 'X'}\n",
    "\n",
    "[bin(n) for n in xpos( 'X1001X')]"
   ]
  },
  {
   "cell_type": "code",
   "execution_count": 199,
   "metadata": {},
   "outputs": [],
   "source": [
    "from itertools import chain, combinations\n",
    "\n",
    "def zeros_ones_perms(s):\n",
    "    return [(set(i), s.difference(i)) for i in chain.from_iterable(combinations(s, r) for r in range(len(s)+1))]"
   ]
  },
  {
   "cell_type": "code",
   "execution_count": 212,
   "metadata": {},
   "outputs": [
    {
     "data": {
      "text/plain": [
       "[(set(), {1, 32}), ({32}, {1}), ({1}, {32}), ({1, 32}, set())]"
      ]
     },
     "execution_count": 212,
     "metadata": {},
     "output_type": "execute_result"
    }
   ],
   "source": [
    "zeros_ones_perms( xpos( 'X1001X' ))"
   ]
  },
  {
   "cell_type": "code",
   "execution_count": 297,
   "metadata": {},
   "outputs": [
    {
     "data": {
      "text/plain": [
       "[59, 27, 58, 26]"
      ]
     },
     "execution_count": 297,
     "metadata": {},
     "output_type": "execute_result"
    }
   ],
   "source": [
    "def apply_mask( mask, n ):\n",
    "    # The ones and zeros can just be applied as a bitwise `OR` operation. Doesn't matter what we set the `X`s to.\n",
    "    or_mask = int(re.sub('X', '0', mask), 2)\n",
    "    omasked = n | or_mask\n",
    "    \n",
    "    # Find the positions of Xs\n",
    "    float_pos = xpos( mask )\n",
    "    # Get a list of pairs of zero indicies and one indicies representing\n",
    "    # every permutation of ones or zeros subbed for X\n",
    "    zeros_ones = zeros_ones_perms( float_pos )\n",
    "    \n",
    "    # Replace the the number with a list of binary digits as strings (for easier manipulation)\n",
    "    ns = []\n",
    "    \n",
    "    for (zeros, ones) in zeros_ones:\n",
    "        n_ = omasked & (zero_base_mask ^ sum(zeros)) | sum(ones)\n",
    "        ns.append(n_)\n",
    "        \n",
    "    return ns\n",
    "\n",
    "mask = 'X1001X'\n",
    "n = 42\n",
    "\n",
    "apply_mask(mask, 42)"
   ]
  },
  {
   "cell_type": "code",
   "execution_count": 299,
   "metadata": {},
   "outputs": [
    {
     "data": {
      "text/plain": [
       "3816594901962"
      ]
     },
     "execution_count": 299,
     "metadata": {},
     "output_type": "execute_result"
    }
   ],
   "source": [
    "import re\n",
    "\n",
    "mask = None\n",
    "mem = {}\n",
    "\n",
    "for l in txt:\n",
    "    if re.match(\"^mask\", l):\n",
    "        mask = re.match(\"mask = ([10X]+)\", l).group(1)\n",
    "    else:\n",
    "        m = re.match(\"mem\\[(\\d+)\\] = (\\d+)\", l)\n",
    "        addr = int( m.group(1) )\n",
    "        num = int( m.group(2) )\n",
    "        \n",
    "        addrs = apply_mask( mask, addr )\n",
    "        \n",
    "        for addr in addrs:\n",
    "            mem[addr] = num\n",
    "        \n",
    "\n",
    "sum(mem.values())"
   ]
  }
 ],
 "metadata": {
  "kernelspec": {
   "display_name": "Python 3",
   "language": "python",
   "name": "python3"
  },
  "language_info": {
   "codemirror_mode": {
    "name": "ipython",
    "version": 3
   },
   "file_extension": ".py",
   "mimetype": "text/x-python",
   "name": "python",
   "nbconvert_exporter": "python",
   "pygments_lexer": "ipython3",
   "version": "3.7.6"
  }
 },
 "nbformat": 4,
 "nbformat_minor": 4
}
