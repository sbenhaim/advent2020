{
 "cells": [
  {
   "cell_type": "code",
   "execution_count": 42,
   "metadata": {},
   "outputs": [
    {
     "data": {
      "text/plain": [
       "['..#.#...#.#.#.##.....###.#....#',\n",
       " '...........##.#...#.#..........',\n",
       " '....#.....#..#.............#...',\n",
       " '.#....###..##...#...##...#.#..#',\n",
       " '#.......#.........#..#.......#.',\n",
       " '...#.##..##...#.#......#.##.#..',\n",
       " '#.#..##.....#.....#..##........',\n",
       " '...#.####...#.##...#...........',\n",
       " '.#...#..#..#....#.#.#.#.##.....',\n",
       " '##.#..#.##..#......#..##.#.#..#',\n",
       " '.#.##.....#.#...............#.#',\n",
       " '..##.#.....#.....##..##.#....#.',\n",
       " '#..#..........#...##........#..',\n",
       " '#..##.#.#...............#..#...',\n",
       " '..#....#...#.......#.......#...',\n",
       " '.........#.#.##.#........#.....',\n",
       " '#...##....#..#.........#.#...##',\n",
       " '...#.#...#...........#..#...#..',\n",
       " '...#..#........#...#...........',\n",
       " '.#....##.#...#.#....#....##....']"
      ]
     },
     "execution_count": 42,
     "metadata": {},
     "output_type": "execute_result"
    }
   ],
   "source": [
    "with open( 'day3-input.txt' ) as f:\n",
    "    lines = f.read().splitlines()\n",
    "\n",
    "lines[:20]"
   ]
  },
  {
   "cell_type": "code",
   "execution_count": 2,
   "metadata": {},
   "outputs": [],
   "source": [
    "parsed = [[0 if c == '.' else 1 for c in l] for l in lines]"
   ]
  },
  {
   "cell_type": "markdown",
   "metadata": {},
   "source": [
    "# Part 1"
   ]
  },
  {
   "cell_type": "markdown",
   "metadata": {},
   "source": [
    "`enumerate` provides the row index `i`. `(i * 3)` modulus length of the row wraps around the end of the row."
   ]
  },
  {
   "cell_type": "code",
   "execution_count": 43,
   "metadata": {},
   "outputs": [
    {
     "data": {
      "text/plain": [
       "[(0, 0),\n",
       " (1, 3),\n",
       " (2, 6),\n",
       " (3, 9),\n",
       " (4, 12),\n",
       " (5, 15),\n",
       " (6, 18),\n",
       " (7, 21),\n",
       " (8, 24),\n",
       " (9, 27),\n",
       " (10, 30),\n",
       " (11, 2),\n",
       " (12, 5),\n",
       " (13, 8),\n",
       " (14, 11),\n",
       " (15, 14),\n",
       " (16, 17),\n",
       " (17, 20),\n",
       " (18, 23),\n",
       " (19, 26)]"
      ]
     },
     "execution_count": 43,
     "metadata": {},
     "output_type": "execute_result"
    }
   ],
   "source": [
    "[(i, (i * 3) % len(r)) for (i,r) in enumerate(parsed)][:20]"
   ]
  },
  {
   "cell_type": "code",
   "execution_count": 44,
   "metadata": {},
   "outputs": [
    {
     "data": {
      "text/plain": [
       "[0, 0, 0, 0, 0, 0, 1, 0, 1, 1, 1, 1, 0, 1, 1, 1, 0, 0, 0, 1]"
      ]
     },
     "execution_count": 44,
     "metadata": {},
     "output_type": "execute_result"
    }
   ],
   "source": [
    "[r[(i * 3) % len(r)] for (i,r) in enumerate(parsed)][:20]"
   ]
  },
  {
   "cell_type": "code",
   "execution_count": 8,
   "metadata": {},
   "outputs": [
    {
     "data": {
      "text/plain": [
       "178"
      ]
     },
     "execution_count": 8,
     "metadata": {},
     "output_type": "execute_result"
    }
   ],
   "source": [
    "sum( [r[(i * 3) % len(r)] for (i,r) in enumerate(parsed)] )"
   ]
  },
  {
   "cell_type": "markdown",
   "metadata": {},
   "source": [
    "# Part 2\n",
    "\n",
    "Determine the number of trees you would encounter if, for each of the following slopes, you start at the top-left corner and traverse the map all the way to the bottom:\n",
    "\n",
    "```\n",
    "Right 1, down 1.\n",
    "Right 3, down 1. (This is the slope you already checked.)\n",
    "Right 5, down 1.\n",
    "Right 7, down 1.\n",
    "Right 1, down 2.\n",
    "```"
   ]
  },
  {
   "cell_type": "code",
   "execution_count": 9,
   "metadata": {},
   "outputs": [],
   "source": [
    "rows = len( parsed )\n",
    "cols = len( parsed[0] )"
   ]
  },
  {
   "cell_type": "markdown",
   "metadata": {},
   "source": [
    "`rates` represents each combination of `down` steps and `right` steps.\n",
    "\n",
    "`range( 0, rows, v_rate )` creates a list of indicies from 0 to len( rows ) - 1 counting by `v_rate`."
   ]
  },
  {
   "cell_type": "code",
   "execution_count": 29,
   "metadata": {},
   "outputs": [],
   "source": [
    "rates = [(1,1), (1,3), (1,5), (1,7), (2,1)]\n",
    "\n",
    "sums = [ sum( [parsed[y][(i * h_rate) % cols] for (i,y) in enumerate(range(0, rows, v_rate))] ) \n",
    "          for (v_rate, h_rate) in rates ]"
   ]
  },
  {
   "cell_type": "code",
   "execution_count": 39,
   "metadata": {},
   "outputs": [
    {
     "data": {
      "text/plain": [
       "3492520200"
      ]
     },
     "execution_count": 39,
     "metadata": {},
     "output_type": "execute_result"
    }
   ],
   "source": [
    "import numpy as np\n",
    "np.prod( sums )"
   ]
  },
  {
   "cell_type": "code",
   "execution_count": null,
   "metadata": {},
   "outputs": [],
   "source": []
  }
 ],
 "metadata": {
  "kernelspec": {
   "display_name": "Python 3",
   "language": "python",
   "name": "python3"
  },
  "language_info": {
   "codemirror_mode": {
    "name": "ipython",
    "version": 3
   },
   "file_extension": ".py",
   "mimetype": "text/x-python",
   "name": "python",
   "nbconvert_exporter": "python",
   "pygments_lexer": "ipython3",
   "version": "3.7.6"
  }
 },
 "nbformat": 4,
 "nbformat_minor": 4
}
