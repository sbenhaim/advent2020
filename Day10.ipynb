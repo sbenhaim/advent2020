{
 "cells": [
  {
   "cell_type": "code",
   "execution_count": 162,
   "metadata": {},
   "outputs": [
    {
     "data": {
      "text/plain": [
       "['84', '60', '10', '23', '126', '2', '128', '63', '59', '69']"
      ]
     },
     "execution_count": 162,
     "metadata": {},
     "output_type": "execute_result"
    }
   ],
   "source": [
    "with open('day10-input.txt') as f:\n",
    "    lines = f.read().splitlines()\n",
    "    \n",
    "lines[:10]"
   ]
  },
  {
   "cell_type": "code",
   "execution_count": 163,
   "metadata": {},
   "outputs": [],
   "source": [
    "test1 = [16,10,15,5,1,11,7,19,6,12,4]\n",
    "test2 = [28,33,18,42,31,14,46,20,48,47,24,23,49,45,19,38,39,11,1,32,25,35,8,17,7,9,4,2,34,10,3]\n",
    "joltages = test2"
   ]
  },
  {
   "cell_type": "code",
   "execution_count": 164,
   "metadata": {},
   "outputs": [
    {
     "data": {
      "text/plain": [
       "[84, 60, 10, 23, 126, 2, 128, 63, 59, 69]"
      ]
     },
     "execution_count": 164,
     "metadata": {},
     "output_type": "execute_result"
    }
   ],
   "source": [
    "joltages = [int(n) for n in lines]\n",
    "joltages[:10]"
   ]
  },
  {
   "cell_type": "code",
   "execution_count": 165,
   "metadata": {},
   "outputs": [
    {
     "data": {
      "text/plain": [
       "[0, 1, 2, 3, 4, 7, 10, 13, 16, 17]"
      ]
     },
     "execution_count": 165,
     "metadata": {},
     "output_type": "execute_result"
    }
   ],
   "source": [
    "joltages.sort()\n",
    "joltages = [0] + joltages + [max(joltages) + 3]\n",
    "joltages[:10]"
   ]
  },
  {
   "cell_type": "code",
   "execution_count": 166,
   "metadata": {},
   "outputs": [
    {
     "data": {
      "text/plain": [
       "[1, 1, 1, 1, 3, 3, 3, 3, 1, 1]"
      ]
     },
     "execution_count": 166,
     "metadata": {},
     "output_type": "execute_result"
    }
   ],
   "source": [
    "diffs = [joltages[i + 1] - joltages[i] for i in range(len(joltages) - 1)]\n",
    "diffs[:10]"
   ]
  },
  {
   "cell_type": "code",
   "execution_count": 167,
   "metadata": {},
   "outputs": [
    {
     "data": {
      "text/plain": [
       "(68, 32, 2176)"
      ]
     },
     "execution_count": 167,
     "metadata": {},
     "output_type": "execute_result"
    }
   ],
   "source": [
    "ones, threes = len( [i for i in diffs if i == 1] ), len( [i for i in diffs if i == 3] )\n",
    "\n",
    "ones, threes, ones * threes"
   ]
  },
  {
   "cell_type": "markdown",
   "metadata": {},
   "source": [
    "# Part 2"
   ]
  },
  {
   "cell_type": "markdown",
   "metadata": {},
   "source": [
    "Gaps of 3 provide no permutations, so the number of combinations depends on the length of one-strings. Let's figure those out."
   ]
  },
  {
   "cell_type": "code",
   "execution_count": 168,
   "metadata": {},
   "outputs": [
    {
     "data": {
      "text/plain": [
       "[4, 4, 2, 2, 4, 3, 4, 1, 4, 4, 2, 3, 2, 2, 3, 4, 4, 2, 4, 3, 3, 4]"
      ]
     },
     "execution_count": 168,
     "metadata": {},
     "output_type": "execute_result"
    }
   ],
   "source": [
    "from itertools import groupby\n",
    "\n",
    "def one_strings( lst ):\n",
    "    strings = [list(l) for (_,l) in groupby( lst )]\n",
    "    return [len(s) for s in strings if s[0] == 1]\n",
    "\n",
    "one_strings(diffs)"
   ]
  },
  {
   "cell_type": "markdown",
   "metadata": {},
   "source": [
    "The number of permutations in a 1-string: The last adapter before a 3 must always be present, so we can ignore it. Every adapter before it can be present or absent, so 2 ^ ( len( one-string ) - 1 ).\n",
    "\n",
    "But, no three or more consecutive adaptors can be removed, so we'll subtract all permutations that contain three or more consecutive absences."
   ]
  },
  {
   "cell_type": "code",
   "execution_count": 169,
   "metadata": {},
   "outputs": [],
   "source": [
    "def permutations( string_len ):\n",
    "    p = 2 ** (string_len - 1)\n",
    "    less  = sum( range( string_len - 2 ) )\n",
    "    return p - less\n",
    "\n",
    "perms = [permutations(l) for l in one_strings(diffs)]"
   ]
  },
  {
   "cell_type": "code",
   "execution_count": 170,
   "metadata": {},
   "outputs": [
    {
     "data": {
      "text/plain": [
       "18512297918464"
      ]
     },
     "execution_count": 170,
     "metadata": {},
     "output_type": "execute_result"
    }
   ],
   "source": [
    "import numpy as np\n",
    "np.product(perms)"
   ]
  }
 ],
 "metadata": {
  "kernelspec": {
   "display_name": "Python 3",
   "language": "python",
   "name": "python3"
  },
  "language_info": {
   "codemirror_mode": {
    "name": "ipython",
    "version": 3
   },
   "file_extension": ".py",
   "mimetype": "text/x-python",
   "name": "python",
   "nbconvert_exporter": "python",
   "pygments_lexer": "ipython3",
   "version": "3.7.6"
  }
 },
 "nbformat": 4,
 "nbformat_minor": 4
}
