{
 "cells": [
  {
   "cell_type": "code",
   "execution_count": 22,
   "metadata": {},
   "outputs": [
    {
     "data": {
      "text/plain": [
       "['posh brown bags contain 5 dim coral bags, 1 plaid blue bag, 2 faded bronze bags, 2 light black bags.',\n",
       " 'vibrant lime bags contain 3 dull lavender bags, 3 dim crimson bags, 3 mirrored lavender bags, 2 muted cyan bags.',\n",
       " 'clear olive bags contain 1 wavy gold bag, 4 dim lime bags, 3 dull tomato bags, 5 dark turquoise bags.',\n",
       " 'dark purple bags contain 5 striped tan bags, 5 bright cyan bags, 3 dark indigo bags.',\n",
       " 'posh maroon bags contain 3 bright salmon bags.',\n",
       " 'dim violet bags contain 1 pale violet bag, 1 bright gold bag.',\n",
       " 'clear gray bags contain 1 bright gray bag.',\n",
       " 'light brown bags contain 1 light aqua bag, 4 vibrant yellow bags, 5 posh green bags.',\n",
       " 'muted yellow bags contain 4 drab bronze bags, 2 dull gray bags, 2 vibrant olive bags.',\n",
       " 'striped orange bags contain 4 mirrored brown bags, 4 plaid olive bags.']"
      ]
     },
     "execution_count": 22,
     "metadata": {},
     "output_type": "execute_result"
    }
   ],
   "source": [
    "with open('day7-input.txt') as f:\n",
    "    rules = f.read().splitlines()\n",
    "    \n",
    "rules[:10]"
   ]
  },
  {
   "cell_type": "code",
   "execution_count": 23,
   "metadata": {},
   "outputs": [
    {
     "data": {
      "text/plain": [
       "('posh brown',\n",
       " [(5, 'dim coral'),\n",
       "  (1, 'plaid blue'),\n",
       "  (2, 'faded bronze'),\n",
       "  (2, 'light black')])"
      ]
     },
     "execution_count": 23,
     "metadata": {},
     "output_type": "execute_result"
    }
   ],
   "source": [
    "import re\n",
    "\n",
    "def parse_rule( rstr ):\n",
    "    container = re.findall( \"^(\\w+ \\w+)\", rstr )[0]\n",
    "    contents = re.findall( \"(\\d+) (\\w+ \\w+) bags?\", rstr )\n",
    "    return container, [(int(n), c) for (n,c) in contents]\n",
    "\n",
    "m = parse_rule( rules[0] )\n",
    "m"
   ]
  },
  {
   "cell_type": "markdown",
   "metadata": {},
   "source": [
    "# Part 1"
   ]
  },
  {
   "cell_type": "markdown",
   "metadata": {},
   "source": [
    "Map from each color to a tuple of (number, color) of it's contained bags."
   ]
  },
  {
   "cell_type": "code",
   "execution_count": 54,
   "metadata": {},
   "outputs": [],
   "source": [
    "RULE_MAP = {container: contents for (container, contents) in [parse_rule(r) for r in rules]}"
   ]
  },
  {
   "cell_type": "markdown",
   "metadata": {},
   "source": [
    "Create a set of all direct descendent bag colors and then recursively union with the sets of all descendent descendents."
   ]
  },
  {
   "cell_type": "code",
   "execution_count": 63,
   "metadata": {},
   "outputs": [
    {
     "data": {
      "text/plain": [
       "{'bright aqua',\n",
       " 'bright beige',\n",
       " 'bright cyan',\n",
       " 'clear gold',\n",
       " 'clear green',\n",
       " 'clear lavender',\n",
       " 'clear teal',\n",
       " 'dark fuchsia',\n",
       " 'dim coral',\n",
       " 'dim gold',\n",
       " 'dim lime',\n",
       " 'dim teal',\n",
       " 'dotted cyan',\n",
       " 'dotted violet',\n",
       " 'drab green',\n",
       " 'drab lavender',\n",
       " 'drab orange',\n",
       " 'dull brown',\n",
       " 'dull silver',\n",
       " 'faded bronze',\n",
       " 'faded gold',\n",
       " 'light black',\n",
       " 'light gold',\n",
       " 'mirrored crimson',\n",
       " 'mirrored gray',\n",
       " 'mirrored red',\n",
       " 'mirrored turquoise',\n",
       " 'muted white',\n",
       " 'pale black',\n",
       " 'pale brown',\n",
       " 'pale plum',\n",
       " 'pale purple',\n",
       " 'plaid blue',\n",
       " 'plaid magenta',\n",
       " 'posh lavender',\n",
       " 'posh orange',\n",
       " 'shiny silver',\n",
       " 'striped tan',\n",
       " 'vibrant gray',\n",
       " 'vibrant salmon',\n",
       " 'vibrant turquoise'}"
      ]
     },
     "execution_count": 63,
     "metadata": {},
     "output_type": "execute_result"
    }
   ],
   "source": [
    "def all_contents( color ):\n",
    "    contents = {c for (n,c) in RULE_MAP[color]}\n",
    "    return contents.union( *[all_contents( c ) for c in contents] )\n",
    "\n",
    "all_contents( 'posh brown' )"
   ]
  },
  {
   "cell_type": "markdown",
   "metadata": {},
   "source": [
    "Count all sets which contain shiny gold. (Might perform better to work backward from gold, but ¯\\_(ツ)_/¯)."
   ]
  },
  {
   "cell_type": "code",
   "execution_count": 49,
   "metadata": {},
   "outputs": [
    {
     "data": {
      "text/plain": [
       "238"
      ]
     },
     "execution_count": 49,
     "metadata": {},
     "output_type": "execute_result"
    }
   ],
   "source": [
    "sum( ['shiny gold'in all_contents(c, rule_map) for c in rule_map.keys()] )"
   ]
  },
  {
   "cell_type": "markdown",
   "metadata": {},
   "source": [
    "# Part 2"
   ]
  },
  {
   "cell_type": "markdown",
   "metadata": {},
   "source": [
    "Sum of number of direct descendent bags + recursive sum of bags in those bags times the number of those bags contained."
   ]
  },
  {
   "cell_type": "code",
   "execution_count": 65,
   "metadata": {},
   "outputs": [],
   "source": [
    "def count_contents( color ):\n",
    "    contents = RULE_MAP[ color ]\n",
    "    return sum( [n for (n,_) in contents] ) + sum( [n * count_contents( c ) for (n,c) in contents] )"
   ]
  },
  {
   "cell_type": "code",
   "execution_count": 66,
   "metadata": {},
   "outputs": [
    {
     "data": {
      "text/plain": [
       "82930"
      ]
     },
     "execution_count": 66,
     "metadata": {},
     "output_type": "execute_result"
    }
   ],
   "source": [
    "count_contents( 'shiny gold' )"
   ]
  }
 ],
 "metadata": {
  "kernelspec": {
   "display_name": "Python 3",
   "language": "python",
   "name": "python3"
  },
  "language_info": {
   "codemirror_mode": {
    "name": "ipython",
    "version": 3
   },
   "file_extension": ".py",
   "mimetype": "text/x-python",
   "name": "python",
   "nbconvert_exporter": "python",
   "pygments_lexer": "ipython3",
   "version": "3.7.6"
  }
 },
 "nbformat": 4,
 "nbformat_minor": 4
}
