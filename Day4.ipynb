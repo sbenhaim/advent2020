{
 "cells": [
  {
   "cell_type": "markdown",
   "metadata": {},
   "source": [
    "```\n",
    "byr (Birth Year)\n",
    "iyr (Issue Year)\n",
    "eyr (Expiration Year)\n",
    "hgt (Height)\n",
    "hcl (Hair Color)\n",
    "ecl (Eye Color)\n",
    "pid (Passport ID)\n",
    "cid (Country ID)\n",
    "```"
   ]
  },
  {
   "cell_type": "code",
   "execution_count": 217,
   "metadata": {},
   "outputs": [],
   "source": [
    "with open('day4-input.txt') as f:\n",
    "    txt = f.read().strip()"
   ]
  },
  {
   "cell_type": "markdown",
   "metadata": {},
   "source": [
    "# Part 1"
   ]
  },
  {
   "cell_type": "code",
   "execution_count": 218,
   "metadata": {},
   "outputs": [],
   "source": [
    "import re"
   ]
  },
  {
   "cell_type": "code",
   "execution_count": 219,
   "metadata": {},
   "outputs": [],
   "source": [
    "pps = [re.split( \"[ \\n]\", pp ) for pp in re.split(\"\\n\\n\", txt)]"
   ]
  },
  {
   "cell_type": "code",
   "execution_count": 220,
   "metadata": {},
   "outputs": [],
   "source": [
    "passports = [{k:v for (k,v) in [kv.split(\":\") for kv in pp]} for pp in pps]"
   ]
  },
  {
   "cell_type": "code",
   "execution_count": 221,
   "metadata": {},
   "outputs": [],
   "source": [
    "REQUIRED_KEYS = {'iyr', 'ecl', 'byr', 'hcl', 'eyr', 'hgt', 'pid'}\n",
    "\n",
    "def is_valid( passport ):\n",
    "    return REQUIRED_KEYS.issubset( set( passport.keys() ) )"
   ]
  },
  {
   "cell_type": "code",
   "execution_count": 222,
   "metadata": {},
   "outputs": [
    {
     "data": {
      "text/plain": [
       "264"
      ]
     },
     "execution_count": 222,
     "metadata": {},
     "output_type": "execute_result"
    }
   ],
   "source": [
    "sum( [is_valid(passport) for passport in passports] )"
   ]
  },
  {
   "cell_type": "markdown",
   "metadata": {},
   "source": [
    "# Part 2\n",
    "\n",
    "```\n",
    "byr (Birth Year) - four digits; at least 1920 and at most 2002.\n",
    "iyr (Issue Year) - four digits; at least 2010 and at most 2020.\n",
    "eyr (Expiration Year) - four digits; at least 2020 and at most 2030.\n",
    "hgt (Height) - a number followed by either cm or in:\n",
    "If cm, the number must be at least 150 and at most 193.\n",
    "If in, the number must be at least 59 and at most 76.\n",
    "hcl (Hair Color) - a # followed by exactly six characters 0-9 or a-f.\n",
    "ecl (Eye Color) - exactly one of: amb blu brn gry grn hzl oth.\n",
    "pid (Passport ID) - a nine-digit number, including leading zeroes.\n",
    "cid (Country ID) - ignored, missing or not.\n",
    "```"
   ]
  },
  {
   "cell_type": "code",
   "execution_count": 223,
   "metadata": {},
   "outputs": [],
   "source": [
    "def is_valid2( pp ):\n",
    "    if not is_valid( pp ):\n",
    "        return False\n",
    "    \n",
    "    try:\n",
    "        \n",
    "        # Birth Year\n",
    "        if not 1920 <= int( pp['byr'] ) <= 2002:\n",
    "            return False\n",
    "        \n",
    "        # Issue Year\n",
    "        if not 2010 <= int( pp['iyr'] ) <= 2020:\n",
    "            return False\n",
    "        \n",
    "        # Expiration Year\n",
    "        if not 2020 <= int( pp['eyr'] ) <= 2030:\n",
    "            return False\n",
    "\n",
    "    except ValueError as e:\n",
    "        return False\n",
    "        \n",
    "    # Height\n",
    "    m = re.fullmatch(\"(\\d+)(cm|in)\", pp['hgt'])\n",
    "\n",
    "\n",
    "    if m is None:\n",
    "        return False\n",
    "    else:\n",
    "        meas = int(m.group(1))\n",
    "        unit = m.group(2)\n",
    "\n",
    "        if unit == \"in\" and 59 <= meas <= 76:\n",
    "            pass\n",
    "        elif unit == \"cm\" and 150 <= meas <= 193:\n",
    "            pass\n",
    "        else:\n",
    "            return False\n",
    "\n",
    "    # Hair Color\n",
    "    if not re.fullmatch( \"#[0-9a-f]{6}\", pp['hcl'] ):\n",
    "        return False\n",
    "\n",
    "    # Eye Color\n",
    "    if not re.fullmatch( \"(amb|blu|brn|gry|grn|hzl|oth)\", pp['ecl'] ):\n",
    "        return False\n",
    "\n",
    "    # Passport ID\n",
    "    if not re.fullmatch( \"\\d{9}\", pp['pid'] ):\n",
    "        return False\n",
    "        \n",
    "    return True\n",
    "    \n",
    "    "
   ]
  },
  {
   "cell_type": "code",
   "execution_count": 224,
   "metadata": {},
   "outputs": [
    {
     "data": {
      "text/plain": [
       "224"
      ]
     },
     "execution_count": 224,
     "metadata": {},
     "output_type": "execute_result"
    }
   ],
   "source": [
    "sum( [is_valid2( passport ) for passport in passports] )"
   ]
  },
  {
   "cell_type": "code",
   "execution_count": null,
   "metadata": {},
   "outputs": [],
   "source": []
  }
 ],
 "metadata": {
  "kernelspec": {
   "display_name": "Python 3",
   "language": "python",
   "name": "python3"
  },
  "language_info": {
   "codemirror_mode": {
    "name": "ipython",
    "version": 3
   },
   "file_extension": ".py",
   "mimetype": "text/x-python",
   "name": "python",
   "nbconvert_exporter": "python",
   "pygments_lexer": "ipython3",
   "version": "3.7.6"
  }
 },
 "nbformat": 4,
 "nbformat_minor": 4
}
