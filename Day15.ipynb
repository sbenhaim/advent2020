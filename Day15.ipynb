{
 "cells": [
  {
   "cell_type": "code",
   "execution_count": 25,
   "metadata": {},
   "outputs": [],
   "source": [
    "input0 = [1,0,15,2,10,13]\n",
    "input1 = [0,3,6] # 436\n",
    "input2 = [ 1,3,2 ] # 1.\n",
    "input3 = [ 2,1,3 ] # 10.\n",
    "input4 = [ 1,2,3 ] # 27.\n",
    "input5 = [ 2,3,1 ] # 78.\n",
    "input6 = [ 3,2,1 ] # 438.\n",
    "input7 = [ 3,1,2 ] # 1836."
   ]
  },
  {
   "cell_type": "markdown",
   "metadata": {},
   "source": [
    "# Part 1"
   ]
  },
  {
   "cell_type": "code",
   "execution_count": 29,
   "metadata": {},
   "outputs": [],
   "source": [
    "nturns = 2020"
   ]
  },
  {
   "cell_type": "code",
   "execution_count": 34,
   "metadata": {},
   "outputs": [
    {
     "name": "stdout",
     "output_type": "stream",
     "text": [
      "CPU times: user 14.3 s, sys: 149 ms, total: 14.5 s\n",
      "Wall time: 14.5 s\n"
     ]
    },
    {
     "data": {
      "text/plain": [
       "(30000000, 2159626)"
      ]
     },
     "execution_count": 34,
     "metadata": {},
     "output_type": "execute_result"
    }
   ],
   "source": [
    "%%time\n",
    "\n",
    "ip = input0\n",
    "\n",
    "prev_seen = {n: i + 1 for (i,n) in enumerate(ip[:-1])}\n",
    "prev = ip[-1]\n",
    "prev_first = True\n",
    "curr = None\n",
    "\n",
    "turn = len(ip)\n",
    "\n",
    "while turn < nturns:\n",
    "    if prev in prev_seen:\n",
    "        curr = turn - prev_seen[prev]\n",
    "    else:\n",
    "        curr = 0\n",
    "        \n",
    "    prev_seen[prev] = turn\n",
    "    prev = curr\n",
    "    turn += 1\n",
    "\n",
    "turn, curr"
   ]
  },
  {
   "cell_type": "code",
   "execution_count": 31,
   "metadata": {},
   "outputs": [],
   "source": [
    "nturns = 30000000"
   ]
  }
 ],
 "metadata": {
  "kernelspec": {
   "display_name": "Python 3",
   "language": "python",
   "name": "python3"
  },
  "language_info": {
   "codemirror_mode": {
    "name": "ipython",
    "version": 3
   },
   "file_extension": ".py",
   "mimetype": "text/x-python",
   "name": "python",
   "nbconvert_exporter": "python",
   "pygments_lexer": "ipython3",
   "version": "3.7.6"
  }
 },
 "nbformat": 4,
 "nbformat_minor": 4
}
