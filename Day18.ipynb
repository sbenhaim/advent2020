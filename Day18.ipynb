{
 "cells": [
  {
   "cell_type": "code",
   "execution_count": 2,
   "metadata": {},
   "outputs": [],
   "source": [
    "p1 = \"2 * 3 + (4 * 5)\" # becomes 26.\n",
    "p2 = \"5 + (8 * 3 + 9 + 3 * 4 * 3)\" # becomes 437.\n",
    "p3 = \"5 * 9 * (7 * 3 * 3 + 9 * 3 + (8 + 6 * 4))\" # becomes 12240.\n",
    "p4 = \"((2 + 4 * 9) * (6 + 9 * 8 + 6) + 6) + 2 + 4 * 2\" # becomes 13632."
   ]
  },
  {
   "cell_type": "code",
   "execution_count": 3,
   "metadata": {},
   "outputs": [],
   "source": [
    "import re"
   ]
  },
  {
   "cell_type": "code",
   "execution_count": 90,
   "metadata": {},
   "outputs": [
    {
     "data": {
      "text/plain": [
       "'2 * (8 + 3 * 3 + (4 + 5)) + 7 * 2'"
      ]
     },
     "execution_count": 90,
     "metadata": {},
     "output_type": "execute_result"
    }
   ],
   "source": [
    "with open('day18-input.txt') as f:\n",
    "    exprs = f.read().splitlines()\n",
    "\n",
    "exprs[0]"
   ]
  },
  {
   "cell_type": "code",
   "execution_count": 165,
   "metadata": {},
   "outputs": [
    {
     "data": {
      "text/plain": [
       "121"
      ]
     },
     "execution_count": 165,
     "metadata": {},
     "output_type": "execute_result"
    }
   ],
   "source": [
    "def evaluate( expr ):\n",
    "    \n",
    "    while True:\n",
    "        subexpr = re.match(\".*(\\(([^\\)]+)\\)).*\", expr)\n",
    "\n",
    "        if subexpr:\n",
    "            r = evaluate( subexpr[2] )\n",
    "            expr = re.sub( re.escape(subexpr[1]), str(r), expr )\n",
    "            continue\n",
    "            \n",
    "        subexpr = re.match(\"\\d+ [+*] \\d+\", expr)\n",
    "\n",
    "        if subexpr:\n",
    "            answer = eval(subexpr[0])\n",
    "            expr = re.sub(\"^\" + re.escape(subexpr[0]), str(answer), expr)\n",
    "            continue\n",
    "            \n",
    "        return int(expr)\n",
    "    \n",
    "evaluate('(9 + 4 * 9 + 4)')"
   ]
  },
  {
   "cell_type": "code",
   "execution_count": 166,
   "metadata": {},
   "outputs": [
    {
     "data": {
      "text/plain": [
       "650217205854"
      ]
     },
     "execution_count": 166,
     "metadata": {},
     "output_type": "execute_result"
    }
   ],
   "source": [
    "sum(evaluate(e) for e in exprs)"
   ]
  },
  {
   "cell_type": "markdown",
   "metadata": {},
   "source": [
    "# Part 2"
   ]
  },
  {
   "cell_type": "code",
   "execution_count": 181,
   "metadata": {},
   "outputs": [
    {
     "data": {
      "text/plain": [
       "23340"
      ]
     },
     "execution_count": 181,
     "metadata": {},
     "output_type": "execute_result"
    }
   ],
   "source": [
    "def evaluate( expr ):\n",
    "    \n",
    "    while True:\n",
    "        subexpr = re.match(\".*(\\(([^\\)]+)\\)).*\", expr)\n",
    "\n",
    "        if subexpr:\n",
    "            r = evaluate( subexpr[2] )\n",
    "            expr = re.sub( re.escape(subexpr[1]), str(r), expr )\n",
    "            continue\n",
    "            \n",
    "        subexpr = re.search(\"\\d+ \\+ \\d+\", expr)\n",
    "\n",
    "        if subexpr:\n",
    "            answer = eval(subexpr[0])\n",
    "            expr = re.sub(re.escape(subexpr[0]), str(answer), expr)\n",
    "            continue\n",
    "            \n",
    "        subexpr = re.match(\"\\d+ \\* \\d+\", expr)\n",
    "\n",
    "        if subexpr:\n",
    "            answer = eval(subexpr[0])\n",
    "            expr = re.sub(re.escape(subexpr[0]), str(answer), expr)\n",
    "            continue\n",
    "            \n",
    "        return int(expr)\n",
    "    \n",
    "evaluate('((2 + 4 * 9) * (6 + 9 * 8 + 6) + 6) + 2 + 4 * 2')"
   ]
  },
  {
   "cell_type": "code",
   "execution_count": 182,
   "metadata": {},
   "outputs": [
    {
     "data": {
      "text/plain": [
       "20394514442037"
      ]
     },
     "execution_count": 182,
     "metadata": {},
     "output_type": "execute_result"
    }
   ],
   "source": [
    "sum(evaluate(e) for e in exprs)"
   ]
  }
 ],
 "metadata": {
  "kernelspec": {
   "display_name": "Python 3",
   "language": "python",
   "name": "python3"
  },
  "language_info": {
   "codemirror_mode": {
    "name": "ipython",
    "version": 3
   },
   "file_extension": ".py",
   "mimetype": "text/x-python",
   "name": "python",
   "nbconvert_exporter": "python",
   "pygments_lexer": "ipython3",
   "version": "3.7.6"
  }
 },
 "nbformat": 4,
 "nbformat_minor": 4
}
