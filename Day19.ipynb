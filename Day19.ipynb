{
 "cells": [
  {
   "cell_type": "markdown",
   "metadata": {},
   "source": [
    "# Part 1"
   ]
  },
  {
   "cell_type": "code",
   "execution_count": 473,
   "metadata": {},
   "outputs": [
    {
     "data": {
      "text/plain": [
       "['136: 83 66 | 102 116',\n",
       " '120: 83 66 | 58 116',\n",
       " '26: 56 116 | 105 66',\n",
       " '42: 37 66 | 100 116',\n",
       " '103: 116 33 | 66 47',\n",
       " '35: 116 21 | 66 105',\n",
       " '82: 113 116 | 93 66',\n",
       " '96: 66 60 | 116 61',\n",
       " '25: 116 68 | 66 34',\n",
       " '4: 116 66']"
      ]
     },
     "execution_count": 473,
     "metadata": {},
     "output_type": "execute_result"
    }
   ],
   "source": [
    "with open('day19-rules.txt') as f:\n",
    "    txt = f.read().splitlines()\n",
    "    \n",
    "txt[:10]"
   ]
  },
  {
   "cell_type": "code",
   "execution_count": 474,
   "metadata": {},
   "outputs": [
    {
     "data": {
      "text/plain": [
       "'116 68 | 66 34'"
      ]
     },
     "execution_count": 474,
     "metadata": {},
     "output_type": "execute_result"
    }
   ],
   "source": [
    "import re\n",
    "\n",
    "rules = {n:r for (n,r) in [re.findall(\"(\\d+): (.*)\", r)[0] for r in txt]}\n",
    "rules['25']"
   ]
  },
  {
   "cell_type": "code",
   "execution_count": 475,
   "metadata": {},
   "outputs": [
    {
     "data": {
      "text/plain": [
       "['116', '116', '|', '116', '66']"
      ]
     },
     "execution_count": 475,
     "metadata": {},
     "output_type": "execute_result"
    }
   ],
   "source": [
    "'116 116 | 116 66'.split(' ')"
   ]
  },
  {
   "cell_type": "code",
   "execution_count": 476,
   "metadata": {},
   "outputs": [],
   "source": [
    "def build_rule( r, rules ):\n",
    "    \n",
    "    m = re.match(\"\\\"([ab])\\\"\", r)\n",
    "    if m:\n",
    "        return m[1]\n",
    "\n",
    "    subrules = r.split(' ')\n",
    "    \n",
    "    rule = '('\n",
    "    \n",
    "    for sr in subrules:\n",
    "        if re.match(\"\\d+\", sr):\n",
    "            rule += build_rule( rules[sr], rules )\n",
    "        elif sr == '|':\n",
    "            rule += '|'\n",
    "            \n",
    "    rule += ')'\n",
    "    \n",
    "    return rule"
   ]
  },
  {
   "cell_type": "code",
   "execution_count": 477,
   "metadata": {},
   "outputs": [
    {
     "data": {
      "text/plain": [
       "'(((ba|aa)a|(aa)b))'"
      ]
     },
     "execution_count": 477,
     "metadata": {},
     "output_type": "execute_result"
    }
   ],
   "source": [
    "build_rule('26', rules)"
   ]
  },
  {
   "cell_type": "code",
   "execution_count": 478,
   "metadata": {},
   "outputs": [],
   "source": [
    "with open('day19-messages.txt') as f:\n",
    "    msgs = f.read().splitlines()"
   ]
  },
  {
   "cell_type": "code",
   "execution_count": 479,
   "metadata": {},
   "outputs": [
    {
     "data": {
      "text/plain": [
       "269"
      ]
     },
     "execution_count": 479,
     "metadata": {},
     "output_type": "execute_result"
    }
   ],
   "source": [
    "r = build_rule( '0', rules )\n",
    "sum(1 if re.fullmatch(r, m) else 0 for m in msgs)"
   ]
  },
  {
   "cell_type": "markdown",
   "metadata": {},
   "source": [
    "# Part 2"
   ]
  },
  {
   "cell_type": "code",
   "execution_count": 522,
   "metadata": {},
   "outputs": [],
   "source": [
    "rules['8'] = '42 | 42 8'\n",
    "rules['11'] = '42 31 | 42 11 31'"
   ]
  },
  {
   "cell_type": "code",
   "execution_count": 523,
   "metadata": {},
   "outputs": [],
   "source": [
    "def build_rule( idx, rules ):\n",
    "    \n",
    "    r = rules[idx]\n",
    "    \n",
    "    m = re.match(\"\\\"([ab])\\\"\", r)\n",
    "    if m:\n",
    "        return m[1]\n",
    "\n",
    "    subrules = r.split(' ')\n",
    "    \n",
    "    rule = '(?:'\n",
    "    recursive = False\n",
    "    \n",
    "    for sr in subrules:\n",
    "        if re.match(\"\\d+\", sr):\n",
    "            if sr == idx:\n",
    "                rule += '+'\n",
    "                recursive = True\n",
    "            else:\n",
    "                rule += build_rule( sr, rules )\n",
    "                if recursive:\n",
    "                    rule += '+'\n",
    "        elif sr == '|':\n",
    "            rule += '|'\n",
    "    rule += ')'\n",
    "    return rule"
   ]
  },
  {
   "cell_type": "markdown",
   "metadata": {},
   "source": [
    "Less than 408, more than 393"
   ]
  },
  {
   "cell_type": "code",
   "execution_count": 524,
   "metadata": {},
   "outputs": [
    {
     "data": {
      "text/plain": [
       "408"
      ]
     },
     "execution_count": 524,
     "metadata": {},
     "output_type": "execute_result"
    }
   ],
   "source": [
    "r = build_rule('0', rules)\n",
    "sum(1 if re.fullmatch(r, m) else 0 for m in msgs) # Nope!"
   ]
  },
  {
   "cell_type": "markdown",
   "metadata": {},
   "source": [
    "# Part 2 – Parser"
   ]
  },
  {
   "cell_type": "code",
   "execution_count": 489,
   "metadata": {},
   "outputs": [],
   "source": [
    "import lark"
   ]
  },
  {
   "cell_type": "code",
   "execution_count": 490,
   "metadata": {},
   "outputs": [],
   "source": [
    "with open('day19-rules.txt') as f:\n",
    "    txt = f.read()\n",
    "    \n",
    "with open('day19-messages.txt') as f:\n",
    "    msgs = f.read().splitlines()"
   ]
  },
  {
   "cell_type": "code",
   "execution_count": 491,
   "metadata": {},
   "outputs": [
    {
     "data": {
      "text/plain": [
       "Tree('rule0', [Tree('rule4', []), Tree('rule1', [Tree('rule3', [Tree('rule5', []), Tree('rule4', [])]), Tree('rule2', [Tree('rule5', []), Tree('rule5', [])])]), Tree('rule5', [])])"
      ]
     },
     "execution_count": 491,
     "metadata": {},
     "output_type": "execute_result"
    }
   ],
   "source": [
    "grammar = \"\"\"\n",
    "0: 4 1 5\n",
    "1: 2 3 | 3 2\n",
    "2: 4 4 | 5 5\n",
    "3: 4 5 | 5 4\n",
    "4: \\\"a\\\"\n",
    "5: \\\"b\\\"\n",
    "\"\"\"\n",
    "\n",
    "def prep_grammar( grammar ):\n",
    "    grammar = re.sub(\"(\\d+)\", r\"rule\\1\", grammar)\n",
    "    return grammar\n",
    "\n",
    "p = lark.Lark( prep_grammar(grammar), start = \"rule0\" )\n",
    "p.parse(\"ababbb\" )"
   ]
  },
  {
   "cell_type": "code",
   "execution_count": 492,
   "metadata": {},
   "outputs": [],
   "source": [
    "g = prep_grammar(txt)\n",
    "p = lark.Lark(g, start = \"rule0\")"
   ]
  },
  {
   "cell_type": "code",
   "execution_count": 517,
   "metadata": {},
   "outputs": [],
   "source": [
    "def valid( msg ):\n",
    "    try:\n",
    "        p.parse(msg)\n",
    "        v = 1\n",
    "    except Exception:\n",
    "        v = 0\n",
    "    \n",
    "    return v"
   ]
  },
  {
   "cell_type": "code",
   "execution_count": 494,
   "metadata": {},
   "outputs": [
    {
     "data": {
      "text/plain": [
       "269"
      ]
     },
     "execution_count": 494,
     "metadata": {},
     "output_type": "execute_result"
    }
   ],
   "source": [
    "sum(valid(msg) for msg in msgs)"
   ]
  },
  {
   "cell_type": "code",
   "execution_count": 514,
   "metadata": {},
   "outputs": [],
   "source": [
    "p2 = re.sub(\"^8:.*$\", \"8: 42 | 42 8\", txt, flags = re.MULTILINE)\n",
    "p2 = re.sub(\"^11:.*$\", \"11: 42 31 | 42 11 31\", p2, flags = re.MULTILINE)"
   ]
  },
  {
   "cell_type": "code",
   "execution_count": 519,
   "metadata": {},
   "outputs": [],
   "source": [
    "g = prep_grammar(p2)\n",
    "p = lark.Lark(g, start = \"rule0\")"
   ]
  },
  {
   "cell_type": "code",
   "execution_count": 520,
   "metadata": {},
   "outputs": [
    {
     "data": {
      "text/plain": [
       "403"
      ]
     },
     "execution_count": 520,
     "metadata": {},
     "output_type": "execute_result"
    }
   ],
   "source": [
    "sum(valid(msg) for msg in msgs)"
   ]
  }
 ],
 "metadata": {
  "kernelspec": {
   "display_name": "Python 3",
   "language": "python",
   "name": "python3"
  },
  "language_info": {
   "codemirror_mode": {
    "name": "ipython",
    "version": 3
   },
   "file_extension": ".py",
   "mimetype": "text/x-python",
   "name": "python",
   "nbconvert_exporter": "python",
   "pygments_lexer": "ipython3",
   "version": "3.7.6"
  }
 },
 "nbformat": 4,
 "nbformat_minor": 4
}
