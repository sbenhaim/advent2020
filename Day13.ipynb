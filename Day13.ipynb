{
 "cells": [
  {
   "cell_type": "code",
   "execution_count": 84,
   "metadata": {},
   "outputs": [
    {
     "data": {
      "text/plain": [
       "['1008833',\n",
       " '19,x,x,x,x,x,x,x,x,41,x,x,x,x,x,x,x,x,x,643,x,x,x,x,x,x,x,x,x,x,x,x,x,x,x,x,17,13,x,x,x,x,23,x,x,x,x,x,x,x,509,x,x,x,x,x,37,x,x,x,x,x,x,x,x,x,x,x,x,x,x,x,x,x,x,x,x,x,x,29']"
      ]
     },
     "execution_count": 84,
     "metadata": {},
     "output_type": "execute_result"
    }
   ],
   "source": [
    "with open('day13-input.txt') as f:\n",
    "    txt = f.read().splitlines()\n",
    "    \n",
    "txt"
   ]
  },
  {
   "cell_type": "code",
   "execution_count": 85,
   "metadata": {},
   "outputs": [],
   "source": [
    "time = int(txt[0])\n",
    "ids = [int(i) for i in txt[1].split(',') if i != 'x']"
   ]
  },
  {
   "cell_type": "code",
   "execution_count": 86,
   "metadata": {},
   "outputs": [
    {
     "data": {
      "text/plain": [
       "[19, 41, 643, 17, 13, 23, 509, 37, 29]"
      ]
     },
     "execution_count": 86,
     "metadata": {},
     "output_type": "execute_result"
    }
   ],
   "source": [
    "ids"
   ]
  },
  {
   "cell_type": "markdown",
   "metadata": {},
   "source": [
    "# Part 1"
   ]
  },
  {
   "cell_type": "code",
   "execution_count": 87,
   "metadata": {},
   "outputs": [
    {
     "data": {
      "text/plain": [
       "(5, 509)"
      ]
     },
     "execution_count": 87,
     "metadata": {},
     "output_type": "execute_result"
    }
   ],
   "source": [
    "min([(id - (time % id), id) for id in ids])"
   ]
  },
  {
   "cell_type": "code",
   "execution_count": 88,
   "metadata": {},
   "outputs": [
    {
     "data": {
      "text/plain": [
       "2545"
      ]
     },
     "execution_count": 88,
     "metadata": {},
     "output_type": "execute_result"
    }
   ],
   "source": [
    "5 * 509"
   ]
  },
  {
   "cell_type": "markdown",
   "metadata": {},
   "source": [
    "# Part 2"
   ]
  },
  {
   "cell_type": "code",
   "execution_count": 91,
   "metadata": {},
   "outputs": [
    {
     "data": {
      "text/plain": [
       "['7', '13', 'x', 'x', '59', 'x', '31', '19']"
      ]
     },
     "execution_count": 91,
     "metadata": {},
     "output_type": "execute_result"
    }
   ],
   "source": [
    "test_txt = '7,13,x,x,59,x,31,19'.split(',')\n",
    "test_txt = '7,13,x,x,59,x,31,19'.split(',')\n",
    "test_txt"
   ]
  },
  {
   "cell_type": "code",
   "execution_count": 94,
   "metadata": {},
   "outputs": [
    {
     "data": {
      "text/plain": [
       "[(19, 0),\n",
       " (41, 9),\n",
       " (643, 19),\n",
       " (17, 36),\n",
       " (13, 37),\n",
       " (23, 42),\n",
       " (509, 50),\n",
       " (37, 56),\n",
       " (29, 79)]"
      ]
     },
     "execution_count": 94,
     "metadata": {},
     "output_type": "execute_result"
    }
   ],
   "source": [
    "offsets = [(int(id), ix) for (ix,id) in enumerate(txt[1].split(',')) if id != 'x']\n",
    "offsets"
   ]
  },
  {
   "cell_type": "code",
   "execution_count": 97,
   "metadata": {},
   "outputs": [
    {
     "data": {
      "text/plain": [
       "266204454441577"
      ]
     },
     "execution_count": 97,
     "metadata": {},
     "output_type": "execute_result"
    }
   ],
   "source": [
    "import numpy as np\n",
    "x = 1\n",
    "a = 1\n",
    "\n",
    "m, o = max(offsets)\n",
    "nsolved = 1\n",
    "\n",
    "iteration = 0\n",
    "\n",
    "while True:\n",
    "    time = m * x - o\n",
    "    solved = [i for (i,o) in [(i, (time + offset) % i) for (i,offset) in offsets] if o == 0]\n",
    "    solved.sort()\n",
    "\n",
    "    if len(solved) == len(offsets):\n",
    "        break\n",
    "        iteration += 1\n",
    "        x += a\n",
    "    elif len(solved) > nsolved:\n",
    "        nsolved = len(solved)\n",
    "        # X represents how many iterations it took us to find alignment with the \"solved\" cycles\n",
    "        # a represents when we expect to see this same solved group solved again\n",
    "        # So check every x + every a to see if we solve another one\n",
    "        a = np.product( solved[:-1] )\n",
    "        x += a\n",
    "    else:\n",
    "        x += a\n",
    "        \n",
    "time"
   ]
  }
 ],
 "metadata": {
  "kernelspec": {
   "display_name": "Python 3",
   "language": "python",
   "name": "python3"
  },
  "language_info": {
   "codemirror_mode": {
    "name": "ipython",
    "version": 3
   },
   "file_extension": ".py",
   "mimetype": "text/x-python",
   "name": "python",
   "nbconvert_exporter": "python",
   "pygments_lexer": "ipython3",
   "version": "3.7.6"
  }
 },
 "nbformat": 4,
 "nbformat_minor": 4
}
