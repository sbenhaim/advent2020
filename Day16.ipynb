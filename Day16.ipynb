{
 "cells": [
  {
   "cell_type": "code",
   "execution_count": 188,
   "metadata": {},
   "outputs": [],
   "source": [
    "my_ticket = 73,59,83,127,137,151,71,139,67,53,89,79,61,109,131,103,149,97,107,101"
   ]
  },
  {
   "cell_type": "code",
   "execution_count": 189,
   "metadata": {},
   "outputs": [
    {
     "data": {
      "text/plain": [
       "['782,297,512,592,171,360,774,483,653,294,299,519,448,916,939,293,535,63,54,648',\n",
       " '650,284,299,520,890,792,654,774,639,887,655,654,313,662,83,650,137,570,700,505',\n",
       " '12,126,760,151,298,484,782,149,141,416,285,450,747,294,111,660,562,780,776,93',\n",
       " '159,671,77,361,577,363,74,459,725,217,504,738,456,817,453,454,207,789,124,880',\n",
       " '464,856,729,116,581,666,189,938,595,65,369,189,691,939,132,365,446,370,689,895',\n",
       " '400,64,422,509,95,138,724,701,444,199,360,828,95,776,465,551,348,640,837,372',\n",
       " '452,699,70,946,596,891,828,77,352,503,395,794,595,310,817,690,419,111,88,413',\n",
       " '439,54,839,626,462,452,653,138,715,152,596,508,405,822,370,916,217,527,723,817',\n",
       " '167,827,522,284,693,101,204,206,60,507,785,628,460,741,438,530,447,726,884,259',\n",
       " '455,96,703,813,419,402,760,371,523,403,949,94,202,107,343,699,834,556,547,771']"
      ]
     },
     "execution_count": 189,
     "metadata": {},
     "output_type": "execute_result"
    }
   ],
   "source": [
    "with open('day16-input.txt') as f:\n",
    "    other_tickets = f.read().splitlines()\n",
    "    \n",
    "other_tickets[:10]"
   ]
  },
  {
   "cell_type": "code",
   "execution_count": 191,
   "metadata": {},
   "outputs": [],
   "source": [
    "rules = \"\"\"departure location: 40-261 or 279-955\n",
    "departure station: 33-375 or 394-963\n",
    "departure platform: 39-863 or 877-970\n",
    "departure track: 30-237 or 256-955\n",
    "departure date: 47-731 or 741-950\n",
    "departure time: 38-301 or 317-954\n",
    "arrival location: 26-598 or 623-969\n",
    "arrival station: 50-835 or 854-971\n",
    "arrival platform: 44-535 or 549-958\n",
    "arrival track: 36-672 or 685-967\n",
    "class: 34-217 or 236-974\n",
    "duration: 29-469 or 483-970\n",
    "price: 45-111 or 120-965\n",
    "route: 32-751 or 760-954\n",
    "row: 25-321 or 339-954\n",
    "seat: 38-423 or 438-958\n",
    "train: 45-798 or 813-954\n",
    "type: 40-487 or 503-954\n",
    "wagon: 46-916 or 938-949\n",
    "zone: 25-160 or 184-957\"\"\".splitlines()"
   ]
  },
  {
   "cell_type": "code",
   "execution_count": 192,
   "metadata": {},
   "outputs": [
    {
     "data": {
      "text/plain": [
       "950"
      ]
     },
     "execution_count": 192,
     "metadata": {},
     "output_type": "execute_result"
    }
   ],
   "source": [
    "import re\n",
    "\n",
    "r = rules[0]\n",
    "\n",
    "all_valid = set()\n",
    "\n",
    "for r in rules:\n",
    "    \n",
    "    min1, max1, min2, max2 = re.findall(\"(\\d+)-(\\d+) or (\\d+)-(\\d+)\", r)[0]\n",
    "\n",
    "    all_valid = all_valid.union(range(int(min1), int(max1) + 1))\n",
    "    all_valid = all_valid.union(range(int(min2), (int(max2) + 1)))\n",
    "    \n",
    "len(all_valid)"
   ]
  },
  {
   "cell_type": "code",
   "execution_count": 193,
   "metadata": {},
   "outputs": [
    {
     "data": {
      "text/plain": [
       "[12, 988, 982, 13, 0, 983, 22, 978, 15, 983]"
      ]
     },
     "execution_count": 193,
     "metadata": {},
     "output_type": "execute_result"
    }
   ],
   "source": [
    "invalid = [int(i) for row in other_tickets for i in row.split(',') if int(i) not in all_valid]\n",
    "invalid[:10]"
   ]
  },
  {
   "cell_type": "code",
   "execution_count": 194,
   "metadata": {},
   "outputs": [
    {
     "data": {
      "text/plain": [
       "26869"
      ]
     },
     "execution_count": 194,
     "metadata": {},
     "output_type": "execute_result"
    }
   ],
   "source": [
    "sum( invalid )"
   ]
  },
  {
   "cell_type": "markdown",
   "metadata": {},
   "source": [
    "# Part 2"
   ]
  },
  {
   "cell_type": "code",
   "execution_count": 195,
   "metadata": {},
   "outputs": [],
   "source": [
    "fields = []\n",
    "\n",
    "for r in rules:\n",
    "    \n",
    "    field, min1, max1, min2, max2 = re.findall(\"(.*?): (\\d+)-(\\d+) or (\\d+)-(\\d+)\", r)[0]\n",
    "\n",
    "    valid = set(range(int(min1), int(max1) + 1))\n",
    "    valid = valid.union(range(int(min2), (int(max2) + 1)))\n",
    "    fields.append((field, valid))"
   ]
  },
  {
   "cell_type": "code",
   "execution_count": 196,
   "metadata": {},
   "outputs": [
    {
     "data": {
      "text/plain": [
       "array([[782, 297, 512, ...,  63,  54, 648],\n",
       "       [650, 284, 299, ..., 570, 700, 505],\n",
       "       [ 12, 126, 760, ..., 780, 776,  93],\n",
       "       ...,\n",
       "       [360, 886, 148, ..., 941, 785, 577],\n",
       "       [798, 108, 418, ..., 578, 561, 129],\n",
       "       [527, 144, 404, ..., 397, 662, 295]])"
      ]
     },
     "execution_count": 196,
     "metadata": {},
     "output_type": "execute_result"
    }
   ],
   "source": [
    "import numpy as np\n",
    "\n",
    "tickets = np.array([[int(i) for i in r.split(',')] for r in other_tickets])\n",
    "tickets"
   ]
  },
  {
   "cell_type": "code",
   "execution_count": 197,
   "metadata": {},
   "outputs": [],
   "source": [
    "valid = [all([n in all_valid for n in row]) for row in tickets]"
   ]
  },
  {
   "cell_type": "code",
   "execution_count": 198,
   "metadata": {},
   "outputs": [
    {
     "data": {
      "text/plain": [
       "190"
      ]
     },
     "execution_count": 198,
     "metadata": {},
     "output_type": "execute_result"
    }
   ],
   "source": [
    "sum(valid)"
   ]
  },
  {
   "cell_type": "code",
   "execution_count": 199,
   "metadata": {},
   "outputs": [
    {
     "data": {
      "text/plain": [
       "(236, 190)"
      ]
     },
     "execution_count": 199,
     "metadata": {},
     "output_type": "execute_result"
    }
   ],
   "source": [
    "valid_tickets = tickets[ valid ]\n",
    "len( tickets ), len( valid_tickets )"
   ]
  },
  {
   "cell_type": "code",
   "execution_count": 200,
   "metadata": {},
   "outputs": [],
   "source": [
    "width = valid_tickets.shape[1]\n",
    "candidates = {}\n",
    "\n",
    "for (field, valid) in fields:\n",
    "    for col in range(width):\n",
    "        if all([i in valid for i in valid_tickets[:,col]]):\n",
    "            if field not in candidates:\n",
    "                candidates[field] = set([col])\n",
    "            else:\n",
    "                candidates[field].add(col)"
   ]
  },
  {
   "cell_type": "code",
   "execution_count": 209,
   "metadata": {},
   "outputs": [
    {
     "data": {
      "text/plain": [
       "[('arrival station', 10),\n",
       " ('zone', 14),\n",
       " ('row', 6),\n",
       " ('wagon', 2),\n",
       " ('price', 19),\n",
       " ('route', 9),\n",
       " ('seat', 7),\n",
       " ('class', 17),\n",
       " ('arrival platform', 3),\n",
       " ('departure station', 8),\n",
       " ('departure platform', 18),\n",
       " ('departure track', 0),\n",
       " ('departure date', 5),\n",
       " ('departure location', 4),\n",
       " ('departure time', 11),\n",
       " ('type', 12),\n",
       " ('arrival track', 1),\n",
       " ('arrival location', 15),\n",
       " ('train', 13),\n",
       " ('duration', 16)]"
      ]
     },
     "execution_count": 209,
     "metadata": {},
     "output_type": "execute_result"
    }
   ],
   "source": [
    "import copy\n",
    "cds = copy.deepcopy( candidates )\n",
    "\n",
    "while len(found) < len(cds):\n",
    "    for field in cds.keys():\n",
    "        if len( cds[field] ) == 1:\n",
    "            found_col = cds[field].pop()\n",
    "            found.append( (field, found_col ) )\n",
    "\n",
    "            for f2 in cds.keys():\n",
    "                if found_col in cds[f2]:\n",
    "                    cds[f2].remove(found_col)\n",
    "            break\n",
    "\n",
    "found"
   ]
  },
  {
   "cell_type": "code",
   "execution_count": 202,
   "metadata": {},
   "outputs": [
    {
     "data": {
      "text/plain": [
       "[67, 107, 73, 151, 137, 79]"
      ]
     },
     "execution_count": 202,
     "metadata": {},
     "output_type": "execute_result"
    }
   ],
   "source": [
    "values = [my_ticket[i] for (field, i) in found if re.findall(\"departure\", field)]\n",
    "values"
   ]
  },
  {
   "cell_type": "code",
   "execution_count": 203,
   "metadata": {},
   "outputs": [
    {
     "data": {
      "text/plain": [
       "855275529001"
      ]
     },
     "execution_count": 203,
     "metadata": {},
     "output_type": "execute_result"
    }
   ],
   "source": [
    "np.product(values)"
   ]
  }
 ],
 "metadata": {
  "kernelspec": {
   "display_name": "Python 3",
   "language": "python",
   "name": "python3"
  },
  "language_info": {
   "codemirror_mode": {
    "name": "ipython",
    "version": 3
   },
   "file_extension": ".py",
   "mimetype": "text/x-python",
   "name": "python",
   "nbconvert_exporter": "python",
   "pygments_lexer": "ipython3",
   "version": "3.7.6"
  }
 },
 "nbformat": 4,
 "nbformat_minor": 4
}
