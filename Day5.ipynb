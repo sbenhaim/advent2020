{
 "cells": [
  {
   "cell_type": "markdown",
   "metadata": {},
   "source": [
    "# Test Values\n",
    "\n",
    "```\n",
    "F = Lower\n",
    "B = Higher\n",
    "\n",
    "L = Lower\n",
    "R = Higher\n",
    "```"
   ]
  },
  {
   "cell_type": "code",
   "execution_count": 79,
   "metadata": {},
   "outputs": [],
   "source": [
    "test1 = 'BFFFBBFRRR' # row 70, column 7, seat ID 567.\n",
    "test2 = 'FFFBBBFRRR' # row 14, column 7, seat ID 119.\n",
    "test3 = 'BBFFBBFRLL' # row 102, column 4, seat ID 820."
   ]
  },
  {
   "cell_type": "code",
   "execution_count": 7,
   "metadata": {},
   "outputs": [],
   "source": [
    "from statistics import mean"
   ]
  },
  {
   "cell_type": "markdown",
   "metadata": {},
   "source": [
    "# Part 1"
   ]
  },
  {
   "cell_type": "code",
   "execution_count": 120,
   "metadata": {},
   "outputs": [],
   "source": [
    "def parse( string, topchar ):\n",
    "    return [c == topchar for c in string]\n",
    "\n",
    "def binary_partition( splits ):\n",
    "    mn = 0\n",
    "    mx = 2 ** len( splits )\n",
    "    \n",
    "    for top in splits:\n",
    "        pvt = mean( [mn, mx] )\n",
    "        if top:\n",
    "            mn = pvt\n",
    "        else:\n",
    "            mx = pvt\n",
    "\n",
    "    return mx - 1\n",
    "    \n",
    "def find_seat( string, fn ):\n",
    "    row = fn( parse( string[:7], 'B' ) )\n",
    "    col = fn( parse( string[7:], 'R' ) )\n",
    "    \n",
    "    return (row, col)"
   ]
  },
  {
   "cell_type": "code",
   "execution_count": 121,
   "metadata": {},
   "outputs": [
    {
     "data": {
      "text/plain": [
       "[(70, 7), (14, 7), (102, 4)]"
      ]
     },
     "execution_count": 121,
     "metadata": {},
     "output_type": "execute_result"
    }
   ],
   "source": [
    "[find_seat( test, binary_partition ) for test in [test1, test2, test3]]"
   ]
  },
  {
   "cell_type": "code",
   "execution_count": 122,
   "metadata": {},
   "outputs": [],
   "source": [
    "with open( 'day5-input.txt' ) as f:\n",
    "    txt = f.read().splitlines()"
   ]
  },
  {
   "cell_type": "code",
   "execution_count": 123,
   "metadata": {},
   "outputs": [
    {
     "data": {
      "text/plain": [
       "[(89, 6),\n",
       " (80, 4),\n",
       " (41, 7),\n",
       " (29, 4),\n",
       " (117, 5),\n",
       " (90, 3),\n",
       " (56, 6),\n",
       " (100, 0),\n",
       " (119, 5),\n",
       " (73, 6)]"
      ]
     },
     "execution_count": 123,
     "metadata": {},
     "output_type": "execute_result"
    }
   ],
   "source": [
    "rcs = [find_seat(tkt, binary_partition) for tkt in txt]\n",
    "rcs[:10]"
   ]
  },
  {
   "cell_type": "code",
   "execution_count": 124,
   "metadata": {},
   "outputs": [
    {
     "data": {
      "text/plain": [
       "[718, 644, 335, 236, 941, 723, 454, 800, 957, 590]"
      ]
     },
     "execution_count": 124,
     "metadata": {},
     "output_type": "execute_result"
    }
   ],
   "source": [
    "seat_ids = [r * 8 + c for (r,c) in rcs]\n",
    "seat_ids[:10]"
   ]
  },
  {
   "cell_type": "code",
   "execution_count": 125,
   "metadata": {},
   "outputs": [
    {
     "data": {
      "text/plain": [
       "965"
      ]
     },
     "execution_count": 125,
     "metadata": {},
     "output_type": "execute_result"
    }
   ],
   "source": [
    "max( seat_ids )"
   ]
  },
  {
   "cell_type": "markdown",
   "metadata": {},
   "source": [
    "## Part 1, functional binary_partition"
   ]
  },
  {
   "cell_type": "code",
   "execution_count": 129,
   "metadata": {},
   "outputs": [],
   "source": [
    "from functools import reduce\n",
    "\n",
    "splitfn = lambda mnmx, top: (mean(mnmx), mnmx[1]) if top else (mnmx[0], mean(mnmx))\n",
    "\n",
    "def bp_func( splits ):\n",
    "    (mn, mx) = reduce( splitfn, splits, (0, 2 ** len( splits )))\n",
    "    return mx - 1"
   ]
  },
  {
   "cell_type": "code",
   "execution_count": 128,
   "metadata": {},
   "outputs": [
    {
     "data": {
      "text/plain": [
       "[(70, 7), (14, 7), (102, 4)]"
      ]
     },
     "execution_count": 128,
     "metadata": {},
     "output_type": "execute_result"
    }
   ],
   "source": [
    "[find_seat( test, binary_partition_func ) for test in [test1, test2, test3]]"
   ]
  },
  {
   "cell_type": "code",
   "execution_count": 130,
   "metadata": {},
   "outputs": [
    {
     "data": {
      "text/plain": [
       "965"
      ]
     },
     "execution_count": 130,
     "metadata": {},
     "output_type": "execute_result"
    }
   ],
   "source": [
    "max( [r * 8 + c for (r,c) in [find_seat(tkt, bp_func) for tkt in txt]] )"
   ]
  },
  {
   "cell_type": "markdown",
   "metadata": {},
   "source": [
    "# Part 2"
   ]
  },
  {
   "cell_type": "code",
   "execution_count": 77,
   "metadata": {},
   "outputs": [],
   "source": [
    "all_seats = set( range( min(seat_ids), max(seat_ids) + 1 ) )"
   ]
  },
  {
   "cell_type": "code",
   "execution_count": 78,
   "metadata": {},
   "outputs": [
    {
     "data": {
      "text/plain": [
       "{524}"
      ]
     },
     "execution_count": 78,
     "metadata": {},
     "output_type": "execute_result"
    }
   ],
   "source": [
    "all_seats.difference( set(seat_ids) )"
   ]
  }
 ],
 "metadata": {
  "kernelspec": {
   "display_name": "Python 3",
   "language": "python",
   "name": "python3"
  },
  "language_info": {
   "codemirror_mode": {
    "name": "ipython",
    "version": 3
   },
   "file_extension": ".py",
   "mimetype": "text/x-python",
   "name": "python",
   "nbconvert_exporter": "python",
   "pygments_lexer": "ipython3",
   "version": "3.7.6"
  }
 },
 "nbformat": 4,
 "nbformat_minor": 4
}
